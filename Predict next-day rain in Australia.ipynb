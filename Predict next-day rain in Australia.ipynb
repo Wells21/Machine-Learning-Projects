{
 "cells": [
  {
   "cell_type": "markdown",
   "id": "74e0e897",
   "metadata": {},
   "source": [
    "# Rain in Australia"
   ]
  },
  {
   "cell_type": "markdown",
   "id": "13e40224",
   "metadata": {},
   "source": [
    "**objective**"
   ]
  },
  {
   "cell_type": "markdown",
   "id": "c1546be0",
   "metadata": {},
   "source": [
    "In this project i would be predicting next-day rain by training classification models on the target variable RainTomorrow."
   ]
  },
  {
   "cell_type": "markdown",
   "id": "9ec78bce",
   "metadata": {},
   "source": [
    "**Content**\n",
    "\n",
    "This dataset contains about 10 years of daily weather observations from many locations across Australia.\n",
    "\n",
    "RainTomorrow is the target variable to predict. It means -- did it rain the next day, Yes or No?"
   ]
  },
  {
   "cell_type": "markdown",
   "id": "e7df4249",
   "metadata": {},
   "source": [
    "**Source & Acknowledgements**\n",
    "\n",
    "Observations were drawn from numerous weather stations. The daily observations are available from http://www.bom.gov.au/climate/data.\n",
    "An example of latest weather observations in Canberra: http://www.bom.gov.au/climate/dwo/IDCJDW2801.latest.shtml\n",
    "\n",
    "Definitions adapted from http://www.bom.gov.au/climate/dwo/IDCJDW0000.shtml\n",
    "Data source: http://www.bom.gov.au/climate/dwo/ and http://www.bom.gov.au/climate/data."
   ]
  },
  {
   "cell_type": "code",
   "execution_count": 1,
   "id": "5a8c24a6",
   "metadata": {},
   "outputs": [
    {
     "name": "stdout",
     "output_type": "stream",
     "text": [
      "Note: you may need to restart the kernel to use updated packages.\n"
     ]
    }
   ],
   "source": [
    "pip install jovian --upgrade --quiet"
   ]
  },
  {
   "cell_type": "code",
   "execution_count": 2,
   "id": "b86f369e",
   "metadata": {},
   "outputs": [],
   "source": [
    "import jovian"
   ]
  },
  {
   "cell_type": "code",
   "execution_count": 3,
   "id": "f757df70",
   "metadata": {},
   "outputs": [
    {
     "data": {
      "application/javascript": [
       "window.require && require([\"base/js/namespace\"],function(Jupyter){Jupyter.notebook.save_checkpoint()})"
      ],
      "text/plain": [
       "<IPython.core.display.Javascript object>"
      ]
     },
     "metadata": {},
     "output_type": "display_data"
    },
    {
     "name": "stdout",
     "output_type": "stream",
     "text": [
      "[jovian] Updating notebook \"wells-2104/predict-next-day-rain-in-australia\" on https://jovian.ai/\u001b[0m\n",
      "[jovian] Committed successfully! https://jovian.ai/wells-2104/predict-next-day-rain-in-australia\u001b[0m\n"
     ]
    },
    {
     "data": {
      "text/plain": [
       "'https://jovian.ai/wells-2104/predict-next-day-rain-in-australia'"
      ]
     },
     "execution_count": 3,
     "metadata": {},
     "output_type": "execute_result"
    }
   ],
   "source": [
    "jovian.commit(project='Predict next-day rain in Australia')"
   ]
  },
  {
   "cell_type": "code",
   "execution_count": 4,
   "id": "3a1aca4d",
   "metadata": {},
   "outputs": [
    {
     "name": "stdout",
     "output_type": "stream",
     "text": [
      "Note: you may need to restart the kernel to use updated packages.\n"
     ]
    }
   ],
   "source": [
    "pip install opendatasets plotly --quiet"
   ]
  },
  {
   "cell_type": "code",
   "execution_count": 5,
   "id": "70c0c67e",
   "metadata": {},
   "outputs": [],
   "source": [
    "#importing the neccesary modules\n",
    "import os\n",
    "import opendatasets as od\n",
    "import pandas as pd\n",
    "import numpy as np\n",
    "import matplotlib.pyplot as plt\n",
    "import matplotlib\n",
    "import seaborn as sns\n",
    "import plotly.express as px"
   ]
  },
  {
   "cell_type": "code",
   "execution_count": 6,
   "id": "8ab16ac3",
   "metadata": {},
   "outputs": [],
   "source": [
    "pd.set_option('display.max_columns', None)\n",
    "pd.set_option('display.max_rows', 150)\n",
    "sns.set_style('darkgrid')\n",
    "matplotlib.rcParams['font.size'] = 14\n",
    "matplotlib.rcParams['figure.figsize'] = (10, 6)\n",
    "matplotlib.rcParams['figure.facecolor'] = '#00000000'"
   ]
  },
  {
   "cell_type": "markdown",
   "id": "b1c25034",
   "metadata": {},
   "source": [
    "# Data Preparation and cleaning"
   ]
  },
  {
   "cell_type": "markdown",
   "id": "4a010454",
   "metadata": {},
   "source": [
    "**downloading the dataset**"
   ]
  },
  {
   "cell_type": "code",
   "execution_count": 7,
   "id": "cc2d6457",
   "metadata": {},
   "outputs": [
    {
     "name": "stdout",
     "output_type": "stream",
     "text": [
      "Skipping, found downloaded files in \".\\weather-dataset-rattle-package\" (use force=True to force download)\n"
     ]
    }
   ],
   "source": [
    "od.download('https://www.kaggle.com/datasets/jsphyg/weather-dataset-rattle-package')"
   ]
  },
  {
   "cell_type": "code",
   "execution_count": 8,
   "id": "40d948bd",
   "metadata": {},
   "outputs": [
    {
     "data": {
      "text/plain": [
       "['weatherAUS.csv']"
      ]
     },
     "execution_count": 8,
     "metadata": {},
     "output_type": "execute_result"
    }
   ],
   "source": [
    "os.listdir(\".\\weather-dataset-rattle-package\" )"
   ]
  },
  {
   "cell_type": "code",
   "execution_count": 9,
   "id": "845c5619",
   "metadata": {},
   "outputs": [],
   "source": [
    "rain_df = pd.read_csv(\".\\weather-dataset-rattle-package\\weatherAUS.csv\")"
   ]
  },
  {
   "cell_type": "code",
   "execution_count": 10,
   "id": "73a905ea",
   "metadata": {},
   "outputs": [
    {
     "data": {
      "text/html": [
       "<div>\n",
       "<style scoped>\n",
       "    .dataframe tbody tr th:only-of-type {\n",
       "        vertical-align: middle;\n",
       "    }\n",
       "\n",
       "    .dataframe tbody tr th {\n",
       "        vertical-align: top;\n",
       "    }\n",
       "\n",
       "    .dataframe thead th {\n",
       "        text-align: right;\n",
       "    }\n",
       "</style>\n",
       "<table border=\"1\" class=\"dataframe\">\n",
       "  <thead>\n",
       "    <tr style=\"text-align: right;\">\n",
       "      <th></th>\n",
       "      <th>Date</th>\n",
       "      <th>Location</th>\n",
       "      <th>MinTemp</th>\n",
       "      <th>MaxTemp</th>\n",
       "      <th>Rainfall</th>\n",
       "      <th>Evaporation</th>\n",
       "      <th>Sunshine</th>\n",
       "      <th>WindGustDir</th>\n",
       "      <th>WindGustSpeed</th>\n",
       "      <th>WindDir9am</th>\n",
       "      <th>WindDir3pm</th>\n",
       "      <th>WindSpeed9am</th>\n",
       "      <th>WindSpeed3pm</th>\n",
       "      <th>Humidity9am</th>\n",
       "      <th>Humidity3pm</th>\n",
       "      <th>Pressure9am</th>\n",
       "      <th>Pressure3pm</th>\n",
       "      <th>Cloud9am</th>\n",
       "      <th>Cloud3pm</th>\n",
       "      <th>Temp9am</th>\n",
       "      <th>Temp3pm</th>\n",
       "      <th>RainToday</th>\n",
       "      <th>RainTomorrow</th>\n",
       "    </tr>\n",
       "  </thead>\n",
       "  <tbody>\n",
       "    <tr>\n",
       "      <th>0</th>\n",
       "      <td>2008-12-01</td>\n",
       "      <td>Albury</td>\n",
       "      <td>13.4</td>\n",
       "      <td>22.9</td>\n",
       "      <td>0.6</td>\n",
       "      <td>NaN</td>\n",
       "      <td>NaN</td>\n",
       "      <td>W</td>\n",
       "      <td>44.0</td>\n",
       "      <td>W</td>\n",
       "      <td>WNW</td>\n",
       "      <td>20.0</td>\n",
       "      <td>24.0</td>\n",
       "      <td>71.0</td>\n",
       "      <td>22.0</td>\n",
       "      <td>1007.7</td>\n",
       "      <td>1007.1</td>\n",
       "      <td>8.0</td>\n",
       "      <td>NaN</td>\n",
       "      <td>16.9</td>\n",
       "      <td>21.8</td>\n",
       "      <td>No</td>\n",
       "      <td>No</td>\n",
       "    </tr>\n",
       "    <tr>\n",
       "      <th>1</th>\n",
       "      <td>2008-12-02</td>\n",
       "      <td>Albury</td>\n",
       "      <td>7.4</td>\n",
       "      <td>25.1</td>\n",
       "      <td>0.0</td>\n",
       "      <td>NaN</td>\n",
       "      <td>NaN</td>\n",
       "      <td>WNW</td>\n",
       "      <td>44.0</td>\n",
       "      <td>NNW</td>\n",
       "      <td>WSW</td>\n",
       "      <td>4.0</td>\n",
       "      <td>22.0</td>\n",
       "      <td>44.0</td>\n",
       "      <td>25.0</td>\n",
       "      <td>1010.6</td>\n",
       "      <td>1007.8</td>\n",
       "      <td>NaN</td>\n",
       "      <td>NaN</td>\n",
       "      <td>17.2</td>\n",
       "      <td>24.3</td>\n",
       "      <td>No</td>\n",
       "      <td>No</td>\n",
       "    </tr>\n",
       "    <tr>\n",
       "      <th>2</th>\n",
       "      <td>2008-12-03</td>\n",
       "      <td>Albury</td>\n",
       "      <td>12.9</td>\n",
       "      <td>25.7</td>\n",
       "      <td>0.0</td>\n",
       "      <td>NaN</td>\n",
       "      <td>NaN</td>\n",
       "      <td>WSW</td>\n",
       "      <td>46.0</td>\n",
       "      <td>W</td>\n",
       "      <td>WSW</td>\n",
       "      <td>19.0</td>\n",
       "      <td>26.0</td>\n",
       "      <td>38.0</td>\n",
       "      <td>30.0</td>\n",
       "      <td>1007.6</td>\n",
       "      <td>1008.7</td>\n",
       "      <td>NaN</td>\n",
       "      <td>2.0</td>\n",
       "      <td>21.0</td>\n",
       "      <td>23.2</td>\n",
       "      <td>No</td>\n",
       "      <td>No</td>\n",
       "    </tr>\n",
       "    <tr>\n",
       "      <th>3</th>\n",
       "      <td>2008-12-04</td>\n",
       "      <td>Albury</td>\n",
       "      <td>9.2</td>\n",
       "      <td>28.0</td>\n",
       "      <td>0.0</td>\n",
       "      <td>NaN</td>\n",
       "      <td>NaN</td>\n",
       "      <td>NE</td>\n",
       "      <td>24.0</td>\n",
       "      <td>SE</td>\n",
       "      <td>E</td>\n",
       "      <td>11.0</td>\n",
       "      <td>9.0</td>\n",
       "      <td>45.0</td>\n",
       "      <td>16.0</td>\n",
       "      <td>1017.6</td>\n",
       "      <td>1012.8</td>\n",
       "      <td>NaN</td>\n",
       "      <td>NaN</td>\n",
       "      <td>18.1</td>\n",
       "      <td>26.5</td>\n",
       "      <td>No</td>\n",
       "      <td>No</td>\n",
       "    </tr>\n",
       "    <tr>\n",
       "      <th>4</th>\n",
       "      <td>2008-12-05</td>\n",
       "      <td>Albury</td>\n",
       "      <td>17.5</td>\n",
       "      <td>32.3</td>\n",
       "      <td>1.0</td>\n",
       "      <td>NaN</td>\n",
       "      <td>NaN</td>\n",
       "      <td>W</td>\n",
       "      <td>41.0</td>\n",
       "      <td>ENE</td>\n",
       "      <td>NW</td>\n",
       "      <td>7.0</td>\n",
       "      <td>20.0</td>\n",
       "      <td>82.0</td>\n",
       "      <td>33.0</td>\n",
       "      <td>1010.8</td>\n",
       "      <td>1006.0</td>\n",
       "      <td>7.0</td>\n",
       "      <td>8.0</td>\n",
       "      <td>17.8</td>\n",
       "      <td>29.7</td>\n",
       "      <td>No</td>\n",
       "      <td>No</td>\n",
       "    </tr>\n",
       "    <tr>\n",
       "      <th>...</th>\n",
       "      <td>...</td>\n",
       "      <td>...</td>\n",
       "      <td>...</td>\n",
       "      <td>...</td>\n",
       "      <td>...</td>\n",
       "      <td>...</td>\n",
       "      <td>...</td>\n",
       "      <td>...</td>\n",
       "      <td>...</td>\n",
       "      <td>...</td>\n",
       "      <td>...</td>\n",
       "      <td>...</td>\n",
       "      <td>...</td>\n",
       "      <td>...</td>\n",
       "      <td>...</td>\n",
       "      <td>...</td>\n",
       "      <td>...</td>\n",
       "      <td>...</td>\n",
       "      <td>...</td>\n",
       "      <td>...</td>\n",
       "      <td>...</td>\n",
       "      <td>...</td>\n",
       "      <td>...</td>\n",
       "    </tr>\n",
       "    <tr>\n",
       "      <th>145455</th>\n",
       "      <td>2017-06-21</td>\n",
       "      <td>Uluru</td>\n",
       "      <td>2.8</td>\n",
       "      <td>23.4</td>\n",
       "      <td>0.0</td>\n",
       "      <td>NaN</td>\n",
       "      <td>NaN</td>\n",
       "      <td>E</td>\n",
       "      <td>31.0</td>\n",
       "      <td>SE</td>\n",
       "      <td>ENE</td>\n",
       "      <td>13.0</td>\n",
       "      <td>11.0</td>\n",
       "      <td>51.0</td>\n",
       "      <td>24.0</td>\n",
       "      <td>1024.6</td>\n",
       "      <td>1020.3</td>\n",
       "      <td>NaN</td>\n",
       "      <td>NaN</td>\n",
       "      <td>10.1</td>\n",
       "      <td>22.4</td>\n",
       "      <td>No</td>\n",
       "      <td>No</td>\n",
       "    </tr>\n",
       "    <tr>\n",
       "      <th>145456</th>\n",
       "      <td>2017-06-22</td>\n",
       "      <td>Uluru</td>\n",
       "      <td>3.6</td>\n",
       "      <td>25.3</td>\n",
       "      <td>0.0</td>\n",
       "      <td>NaN</td>\n",
       "      <td>NaN</td>\n",
       "      <td>NNW</td>\n",
       "      <td>22.0</td>\n",
       "      <td>SE</td>\n",
       "      <td>N</td>\n",
       "      <td>13.0</td>\n",
       "      <td>9.0</td>\n",
       "      <td>56.0</td>\n",
       "      <td>21.0</td>\n",
       "      <td>1023.5</td>\n",
       "      <td>1019.1</td>\n",
       "      <td>NaN</td>\n",
       "      <td>NaN</td>\n",
       "      <td>10.9</td>\n",
       "      <td>24.5</td>\n",
       "      <td>No</td>\n",
       "      <td>No</td>\n",
       "    </tr>\n",
       "    <tr>\n",
       "      <th>145457</th>\n",
       "      <td>2017-06-23</td>\n",
       "      <td>Uluru</td>\n",
       "      <td>5.4</td>\n",
       "      <td>26.9</td>\n",
       "      <td>0.0</td>\n",
       "      <td>NaN</td>\n",
       "      <td>NaN</td>\n",
       "      <td>N</td>\n",
       "      <td>37.0</td>\n",
       "      <td>SE</td>\n",
       "      <td>WNW</td>\n",
       "      <td>9.0</td>\n",
       "      <td>9.0</td>\n",
       "      <td>53.0</td>\n",
       "      <td>24.0</td>\n",
       "      <td>1021.0</td>\n",
       "      <td>1016.8</td>\n",
       "      <td>NaN</td>\n",
       "      <td>NaN</td>\n",
       "      <td>12.5</td>\n",
       "      <td>26.1</td>\n",
       "      <td>No</td>\n",
       "      <td>No</td>\n",
       "    </tr>\n",
       "    <tr>\n",
       "      <th>145458</th>\n",
       "      <td>2017-06-24</td>\n",
       "      <td>Uluru</td>\n",
       "      <td>7.8</td>\n",
       "      <td>27.0</td>\n",
       "      <td>0.0</td>\n",
       "      <td>NaN</td>\n",
       "      <td>NaN</td>\n",
       "      <td>SE</td>\n",
       "      <td>28.0</td>\n",
       "      <td>SSE</td>\n",
       "      <td>N</td>\n",
       "      <td>13.0</td>\n",
       "      <td>7.0</td>\n",
       "      <td>51.0</td>\n",
       "      <td>24.0</td>\n",
       "      <td>1019.4</td>\n",
       "      <td>1016.5</td>\n",
       "      <td>3.0</td>\n",
       "      <td>2.0</td>\n",
       "      <td>15.1</td>\n",
       "      <td>26.0</td>\n",
       "      <td>No</td>\n",
       "      <td>No</td>\n",
       "    </tr>\n",
       "    <tr>\n",
       "      <th>145459</th>\n",
       "      <td>2017-06-25</td>\n",
       "      <td>Uluru</td>\n",
       "      <td>14.9</td>\n",
       "      <td>NaN</td>\n",
       "      <td>0.0</td>\n",
       "      <td>NaN</td>\n",
       "      <td>NaN</td>\n",
       "      <td>NaN</td>\n",
       "      <td>NaN</td>\n",
       "      <td>ESE</td>\n",
       "      <td>ESE</td>\n",
       "      <td>17.0</td>\n",
       "      <td>17.0</td>\n",
       "      <td>62.0</td>\n",
       "      <td>36.0</td>\n",
       "      <td>1020.2</td>\n",
       "      <td>1017.9</td>\n",
       "      <td>8.0</td>\n",
       "      <td>8.0</td>\n",
       "      <td>15.0</td>\n",
       "      <td>20.9</td>\n",
       "      <td>No</td>\n",
       "      <td>NaN</td>\n",
       "    </tr>\n",
       "  </tbody>\n",
       "</table>\n",
       "<p>145460 rows × 23 columns</p>\n",
       "</div>"
      ],
      "text/plain": [
       "              Date Location  MinTemp  MaxTemp  Rainfall  Evaporation  \\\n",
       "0       2008-12-01   Albury     13.4     22.9       0.6          NaN   \n",
       "1       2008-12-02   Albury      7.4     25.1       0.0          NaN   \n",
       "2       2008-12-03   Albury     12.9     25.7       0.0          NaN   \n",
       "3       2008-12-04   Albury      9.2     28.0       0.0          NaN   \n",
       "4       2008-12-05   Albury     17.5     32.3       1.0          NaN   \n",
       "...            ...      ...      ...      ...       ...          ...   \n",
       "145455  2017-06-21    Uluru      2.8     23.4       0.0          NaN   \n",
       "145456  2017-06-22    Uluru      3.6     25.3       0.0          NaN   \n",
       "145457  2017-06-23    Uluru      5.4     26.9       0.0          NaN   \n",
       "145458  2017-06-24    Uluru      7.8     27.0       0.0          NaN   \n",
       "145459  2017-06-25    Uluru     14.9      NaN       0.0          NaN   \n",
       "\n",
       "        Sunshine WindGustDir  WindGustSpeed WindDir9am WindDir3pm  \\\n",
       "0            NaN           W           44.0          W        WNW   \n",
       "1            NaN         WNW           44.0        NNW        WSW   \n",
       "2            NaN         WSW           46.0          W        WSW   \n",
       "3            NaN          NE           24.0         SE          E   \n",
       "4            NaN           W           41.0        ENE         NW   \n",
       "...          ...         ...            ...        ...        ...   \n",
       "145455       NaN           E           31.0         SE        ENE   \n",
       "145456       NaN         NNW           22.0         SE          N   \n",
       "145457       NaN           N           37.0         SE        WNW   \n",
       "145458       NaN          SE           28.0        SSE          N   \n",
       "145459       NaN         NaN            NaN        ESE        ESE   \n",
       "\n",
       "        WindSpeed9am  WindSpeed3pm  Humidity9am  Humidity3pm  Pressure9am  \\\n",
       "0               20.0          24.0         71.0         22.0       1007.7   \n",
       "1                4.0          22.0         44.0         25.0       1010.6   \n",
       "2               19.0          26.0         38.0         30.0       1007.6   \n",
       "3               11.0           9.0         45.0         16.0       1017.6   \n",
       "4                7.0          20.0         82.0         33.0       1010.8   \n",
       "...              ...           ...          ...          ...          ...   \n",
       "145455          13.0          11.0         51.0         24.0       1024.6   \n",
       "145456          13.0           9.0         56.0         21.0       1023.5   \n",
       "145457           9.0           9.0         53.0         24.0       1021.0   \n",
       "145458          13.0           7.0         51.0         24.0       1019.4   \n",
       "145459          17.0          17.0         62.0         36.0       1020.2   \n",
       "\n",
       "        Pressure3pm  Cloud9am  Cloud3pm  Temp9am  Temp3pm RainToday  \\\n",
       "0            1007.1       8.0       NaN     16.9     21.8        No   \n",
       "1            1007.8       NaN       NaN     17.2     24.3        No   \n",
       "2            1008.7       NaN       2.0     21.0     23.2        No   \n",
       "3            1012.8       NaN       NaN     18.1     26.5        No   \n",
       "4            1006.0       7.0       8.0     17.8     29.7        No   \n",
       "...             ...       ...       ...      ...      ...       ...   \n",
       "145455       1020.3       NaN       NaN     10.1     22.4        No   \n",
       "145456       1019.1       NaN       NaN     10.9     24.5        No   \n",
       "145457       1016.8       NaN       NaN     12.5     26.1        No   \n",
       "145458       1016.5       3.0       2.0     15.1     26.0        No   \n",
       "145459       1017.9       8.0       8.0     15.0     20.9        No   \n",
       "\n",
       "       RainTomorrow  \n",
       "0                No  \n",
       "1                No  \n",
       "2                No  \n",
       "3                No  \n",
       "4                No  \n",
       "...             ...  \n",
       "145455           No  \n",
       "145456           No  \n",
       "145457           No  \n",
       "145458           No  \n",
       "145459          NaN  \n",
       "\n",
       "[145460 rows x 23 columns]"
      ]
     },
     "execution_count": 10,
     "metadata": {},
     "output_type": "execute_result"
    }
   ],
   "source": [
    "rain_df"
   ]
  },
  {
   "cell_type": "markdown",
   "id": "0da02fa7",
   "metadata": {},
   "source": [
    "Since the dataset is computed in years(2008 - 2017), we are gonna split the dataset into training, validation and a test set using the years.\n",
    "\n",
    "(2008 - 2014) -- Training set\n",
    "\n",
    "(2015) -- Validation set\n",
    "\n",
    "(2016 - 2017) -- Test set"
   ]
  },
  {
   "cell_type": "markdown",
   "id": "95ec7468",
   "metadata": {},
   "source": [
    "**Splitting the datasets**"
   ]
  },
  {
   "cell_type": "code",
   "execution_count": 11,
   "id": "fb82bced",
   "metadata": {},
   "outputs": [],
   "source": [
    "year = pd.to_datetime(rain_df.Date).dt.year"
   ]
  },
  {
   "cell_type": "code",
   "execution_count": 12,
   "id": "72858cdb",
   "metadata": {},
   "outputs": [],
   "source": [
    "train_df = rain_df[year < 2015].copy()\n",
    "val_df = rain_df[year == 2015].copy()\n",
    "test_df = rain_df[year > 2015].copy()"
   ]
  },
  {
   "cell_type": "code",
   "execution_count": 13,
   "id": "fe58b88a",
   "metadata": {},
   "outputs": [
    {
     "data": {
      "text/plain": [
       "((101018, 23), (17885, 23), (26557, 23))"
      ]
     },
     "execution_count": 13,
     "metadata": {},
     "output_type": "execute_result"
    }
   ],
   "source": [
    "train_df.shape, val_df.shape, test_df.shape"
   ]
  },
  {
   "cell_type": "markdown",
   "id": "b8236ba6",
   "metadata": {},
   "source": [
    "Its not a perfect 60, 20, 20 split, but its still very useful"
   ]
  },
  {
   "cell_type": "markdown",
   "id": "b97cf88c",
   "metadata": {},
   "source": [
    "**Feature Engineering**"
   ]
  },
  {
   "cell_type": "markdown",
   "id": "651b1654",
   "metadata": {},
   "source": [
    "Lets create columns that has the month, weekday, day"
   ]
  },
  {
   "cell_type": "code",
   "execution_count": 14,
   "id": "ced797a3",
   "metadata": {},
   "outputs": [],
   "source": [
    "train_df['month'] = pd.to_datetime(train_df.Date).dt.month\n",
    "train_df['weekday'] = pd.to_datetime(train_df.Date).dt.weekday\n",
    "train_df['day'] = pd.to_datetime(train_df.Date).dt.day"
   ]
  },
  {
   "cell_type": "code",
   "execution_count": 15,
   "id": "4637025a",
   "metadata": {},
   "outputs": [],
   "source": [
    "val_df['month'] = pd.to_datetime(val_df.Date).dt.month\n",
    "val_df['weekday'] = pd.to_datetime(val_df.Date).dt.weekday\n",
    "val_df['day'] = pd.to_datetime(val_df.Date).dt.day"
   ]
  },
  {
   "cell_type": "code",
   "execution_count": 16,
   "id": "21c8cc72",
   "metadata": {},
   "outputs": [],
   "source": [
    "test_df['month'] = pd.to_datetime(test_df.Date).dt.month\n",
    "test_df['weekday'] = pd.to_datetime(test_df.Date).dt.weekday\n",
    "test_df['day'] = pd.to_datetime(test_df.Date).dt.day"
   ]
  },
  {
   "cell_type": "code",
   "execution_count": 17,
   "id": "513ee90d",
   "metadata": {},
   "outputs": [
    {
     "data": {
      "text/html": [
       "<div>\n",
       "<style scoped>\n",
       "    .dataframe tbody tr th:only-of-type {\n",
       "        vertical-align: middle;\n",
       "    }\n",
       "\n",
       "    .dataframe tbody tr th {\n",
       "        vertical-align: top;\n",
       "    }\n",
       "\n",
       "    .dataframe thead th {\n",
       "        text-align: right;\n",
       "    }\n",
       "</style>\n",
       "<table border=\"1\" class=\"dataframe\">\n",
       "  <thead>\n",
       "    <tr style=\"text-align: right;\">\n",
       "      <th></th>\n",
       "      <th>Date</th>\n",
       "      <th>Location</th>\n",
       "      <th>MinTemp</th>\n",
       "      <th>MaxTemp</th>\n",
       "      <th>Rainfall</th>\n",
       "      <th>Evaporation</th>\n",
       "      <th>Sunshine</th>\n",
       "      <th>WindGustDir</th>\n",
       "      <th>WindGustSpeed</th>\n",
       "      <th>WindDir9am</th>\n",
       "      <th>WindDir3pm</th>\n",
       "      <th>WindSpeed9am</th>\n",
       "      <th>WindSpeed3pm</th>\n",
       "      <th>Humidity9am</th>\n",
       "      <th>Humidity3pm</th>\n",
       "      <th>Pressure9am</th>\n",
       "      <th>Pressure3pm</th>\n",
       "      <th>Cloud9am</th>\n",
       "      <th>Cloud3pm</th>\n",
       "      <th>Temp9am</th>\n",
       "      <th>Temp3pm</th>\n",
       "      <th>RainToday</th>\n",
       "      <th>RainTomorrow</th>\n",
       "      <th>month</th>\n",
       "      <th>weekday</th>\n",
       "      <th>day</th>\n",
       "    </tr>\n",
       "  </thead>\n",
       "  <tbody>\n",
       "    <tr>\n",
       "      <th>0</th>\n",
       "      <td>2008-12-01</td>\n",
       "      <td>Albury</td>\n",
       "      <td>13.4</td>\n",
       "      <td>22.9</td>\n",
       "      <td>0.6</td>\n",
       "      <td>NaN</td>\n",
       "      <td>NaN</td>\n",
       "      <td>W</td>\n",
       "      <td>44.0</td>\n",
       "      <td>W</td>\n",
       "      <td>WNW</td>\n",
       "      <td>20.0</td>\n",
       "      <td>24.0</td>\n",
       "      <td>71.0</td>\n",
       "      <td>22.0</td>\n",
       "      <td>1007.7</td>\n",
       "      <td>1007.1</td>\n",
       "      <td>8.0</td>\n",
       "      <td>NaN</td>\n",
       "      <td>16.9</td>\n",
       "      <td>21.8</td>\n",
       "      <td>No</td>\n",
       "      <td>No</td>\n",
       "      <td>12</td>\n",
       "      <td>0</td>\n",
       "      <td>1</td>\n",
       "    </tr>\n",
       "    <tr>\n",
       "      <th>1</th>\n",
       "      <td>2008-12-02</td>\n",
       "      <td>Albury</td>\n",
       "      <td>7.4</td>\n",
       "      <td>25.1</td>\n",
       "      <td>0.0</td>\n",
       "      <td>NaN</td>\n",
       "      <td>NaN</td>\n",
       "      <td>WNW</td>\n",
       "      <td>44.0</td>\n",
       "      <td>NNW</td>\n",
       "      <td>WSW</td>\n",
       "      <td>4.0</td>\n",
       "      <td>22.0</td>\n",
       "      <td>44.0</td>\n",
       "      <td>25.0</td>\n",
       "      <td>1010.6</td>\n",
       "      <td>1007.8</td>\n",
       "      <td>NaN</td>\n",
       "      <td>NaN</td>\n",
       "      <td>17.2</td>\n",
       "      <td>24.3</td>\n",
       "      <td>No</td>\n",
       "      <td>No</td>\n",
       "      <td>12</td>\n",
       "      <td>1</td>\n",
       "      <td>2</td>\n",
       "    </tr>\n",
       "    <tr>\n",
       "      <th>2</th>\n",
       "      <td>2008-12-03</td>\n",
       "      <td>Albury</td>\n",
       "      <td>12.9</td>\n",
       "      <td>25.7</td>\n",
       "      <td>0.0</td>\n",
       "      <td>NaN</td>\n",
       "      <td>NaN</td>\n",
       "      <td>WSW</td>\n",
       "      <td>46.0</td>\n",
       "      <td>W</td>\n",
       "      <td>WSW</td>\n",
       "      <td>19.0</td>\n",
       "      <td>26.0</td>\n",
       "      <td>38.0</td>\n",
       "      <td>30.0</td>\n",
       "      <td>1007.6</td>\n",
       "      <td>1008.7</td>\n",
       "      <td>NaN</td>\n",
       "      <td>2.0</td>\n",
       "      <td>21.0</td>\n",
       "      <td>23.2</td>\n",
       "      <td>No</td>\n",
       "      <td>No</td>\n",
       "      <td>12</td>\n",
       "      <td>2</td>\n",
       "      <td>3</td>\n",
       "    </tr>\n",
       "    <tr>\n",
       "      <th>3</th>\n",
       "      <td>2008-12-04</td>\n",
       "      <td>Albury</td>\n",
       "      <td>9.2</td>\n",
       "      <td>28.0</td>\n",
       "      <td>0.0</td>\n",
       "      <td>NaN</td>\n",
       "      <td>NaN</td>\n",
       "      <td>NE</td>\n",
       "      <td>24.0</td>\n",
       "      <td>SE</td>\n",
       "      <td>E</td>\n",
       "      <td>11.0</td>\n",
       "      <td>9.0</td>\n",
       "      <td>45.0</td>\n",
       "      <td>16.0</td>\n",
       "      <td>1017.6</td>\n",
       "      <td>1012.8</td>\n",
       "      <td>NaN</td>\n",
       "      <td>NaN</td>\n",
       "      <td>18.1</td>\n",
       "      <td>26.5</td>\n",
       "      <td>No</td>\n",
       "      <td>No</td>\n",
       "      <td>12</td>\n",
       "      <td>3</td>\n",
       "      <td>4</td>\n",
       "    </tr>\n",
       "    <tr>\n",
       "      <th>4</th>\n",
       "      <td>2008-12-05</td>\n",
       "      <td>Albury</td>\n",
       "      <td>17.5</td>\n",
       "      <td>32.3</td>\n",
       "      <td>1.0</td>\n",
       "      <td>NaN</td>\n",
       "      <td>NaN</td>\n",
       "      <td>W</td>\n",
       "      <td>41.0</td>\n",
       "      <td>ENE</td>\n",
       "      <td>NW</td>\n",
       "      <td>7.0</td>\n",
       "      <td>20.0</td>\n",
       "      <td>82.0</td>\n",
       "      <td>33.0</td>\n",
       "      <td>1010.8</td>\n",
       "      <td>1006.0</td>\n",
       "      <td>7.0</td>\n",
       "      <td>8.0</td>\n",
       "      <td>17.8</td>\n",
       "      <td>29.7</td>\n",
       "      <td>No</td>\n",
       "      <td>No</td>\n",
       "      <td>12</td>\n",
       "      <td>4</td>\n",
       "      <td>5</td>\n",
       "    </tr>\n",
       "    <tr>\n",
       "      <th>...</th>\n",
       "      <td>...</td>\n",
       "      <td>...</td>\n",
       "      <td>...</td>\n",
       "      <td>...</td>\n",
       "      <td>...</td>\n",
       "      <td>...</td>\n",
       "      <td>...</td>\n",
       "      <td>...</td>\n",
       "      <td>...</td>\n",
       "      <td>...</td>\n",
       "      <td>...</td>\n",
       "      <td>...</td>\n",
       "      <td>...</td>\n",
       "      <td>...</td>\n",
       "      <td>...</td>\n",
       "      <td>...</td>\n",
       "      <td>...</td>\n",
       "      <td>...</td>\n",
       "      <td>...</td>\n",
       "      <td>...</td>\n",
       "      <td>...</td>\n",
       "      <td>...</td>\n",
       "      <td>...</td>\n",
       "      <td>...</td>\n",
       "      <td>...</td>\n",
       "      <td>...</td>\n",
       "    </tr>\n",
       "    <tr>\n",
       "      <th>144548</th>\n",
       "      <td>2014-12-27</td>\n",
       "      <td>Uluru</td>\n",
       "      <td>16.9</td>\n",
       "      <td>33.2</td>\n",
       "      <td>0.0</td>\n",
       "      <td>NaN</td>\n",
       "      <td>NaN</td>\n",
       "      <td>SSE</td>\n",
       "      <td>43.0</td>\n",
       "      <td>ESE</td>\n",
       "      <td>SSE</td>\n",
       "      <td>24.0</td>\n",
       "      <td>26.0</td>\n",
       "      <td>22.0</td>\n",
       "      <td>13.0</td>\n",
       "      <td>1014.1</td>\n",
       "      <td>1009.8</td>\n",
       "      <td>NaN</td>\n",
       "      <td>NaN</td>\n",
       "      <td>23.7</td>\n",
       "      <td>31.8</td>\n",
       "      <td>No</td>\n",
       "      <td>No</td>\n",
       "      <td>12</td>\n",
       "      <td>5</td>\n",
       "      <td>27</td>\n",
       "    </tr>\n",
       "    <tr>\n",
       "      <th>144549</th>\n",
       "      <td>2014-12-28</td>\n",
       "      <td>Uluru</td>\n",
       "      <td>15.1</td>\n",
       "      <td>36.8</td>\n",
       "      <td>0.0</td>\n",
       "      <td>NaN</td>\n",
       "      <td>NaN</td>\n",
       "      <td>NE</td>\n",
       "      <td>31.0</td>\n",
       "      <td>ENE</td>\n",
       "      <td>SW</td>\n",
       "      <td>19.0</td>\n",
       "      <td>20.0</td>\n",
       "      <td>16.0</td>\n",
       "      <td>8.0</td>\n",
       "      <td>1012.6</td>\n",
       "      <td>1007.6</td>\n",
       "      <td>NaN</td>\n",
       "      <td>NaN</td>\n",
       "      <td>28.9</td>\n",
       "      <td>34.8</td>\n",
       "      <td>No</td>\n",
       "      <td>No</td>\n",
       "      <td>12</td>\n",
       "      <td>6</td>\n",
       "      <td>28</td>\n",
       "    </tr>\n",
       "    <tr>\n",
       "      <th>144550</th>\n",
       "      <td>2014-12-29</td>\n",
       "      <td>Uluru</td>\n",
       "      <td>17.3</td>\n",
       "      <td>37.8</td>\n",
       "      <td>0.0</td>\n",
       "      <td>NaN</td>\n",
       "      <td>NaN</td>\n",
       "      <td>ESE</td>\n",
       "      <td>39.0</td>\n",
       "      <td>ESE</td>\n",
       "      <td>SSE</td>\n",
       "      <td>26.0</td>\n",
       "      <td>9.0</td>\n",
       "      <td>15.0</td>\n",
       "      <td>8.0</td>\n",
       "      <td>1011.9</td>\n",
       "      <td>1008.0</td>\n",
       "      <td>NaN</td>\n",
       "      <td>NaN</td>\n",
       "      <td>29.7</td>\n",
       "      <td>35.7</td>\n",
       "      <td>No</td>\n",
       "      <td>No</td>\n",
       "      <td>12</td>\n",
       "      <td>0</td>\n",
       "      <td>29</td>\n",
       "    </tr>\n",
       "    <tr>\n",
       "      <th>144551</th>\n",
       "      <td>2014-12-30</td>\n",
       "      <td>Uluru</td>\n",
       "      <td>20.1</td>\n",
       "      <td>38.5</td>\n",
       "      <td>0.0</td>\n",
       "      <td>NaN</td>\n",
       "      <td>NaN</td>\n",
       "      <td>ESE</td>\n",
       "      <td>43.0</td>\n",
       "      <td>ESE</td>\n",
       "      <td>SSW</td>\n",
       "      <td>28.0</td>\n",
       "      <td>17.0</td>\n",
       "      <td>22.0</td>\n",
       "      <td>9.0</td>\n",
       "      <td>1014.0</td>\n",
       "      <td>1009.2</td>\n",
       "      <td>NaN</td>\n",
       "      <td>NaN</td>\n",
       "      <td>29.8</td>\n",
       "      <td>37.2</td>\n",
       "      <td>No</td>\n",
       "      <td>No</td>\n",
       "      <td>12</td>\n",
       "      <td>1</td>\n",
       "      <td>30</td>\n",
       "    </tr>\n",
       "    <tr>\n",
       "      <th>144552</th>\n",
       "      <td>2014-12-31</td>\n",
       "      <td>Uluru</td>\n",
       "      <td>22.5</td>\n",
       "      <td>39.6</td>\n",
       "      <td>0.0</td>\n",
       "      <td>NaN</td>\n",
       "      <td>NaN</td>\n",
       "      <td>WNW</td>\n",
       "      <td>76.0</td>\n",
       "      <td>ENE</td>\n",
       "      <td>SSW</td>\n",
       "      <td>30.0</td>\n",
       "      <td>13.0</td>\n",
       "      <td>16.0</td>\n",
       "      <td>9.0</td>\n",
       "      <td>1012.1</td>\n",
       "      <td>1006.2</td>\n",
       "      <td>NaN</td>\n",
       "      <td>NaN</td>\n",
       "      <td>30.1</td>\n",
       "      <td>37.4</td>\n",
       "      <td>No</td>\n",
       "      <td>No</td>\n",
       "      <td>12</td>\n",
       "      <td>2</td>\n",
       "      <td>31</td>\n",
       "    </tr>\n",
       "  </tbody>\n",
       "</table>\n",
       "<p>101018 rows × 26 columns</p>\n",
       "</div>"
      ],
      "text/plain": [
       "              Date Location  MinTemp  MaxTemp  Rainfall  Evaporation  \\\n",
       "0       2008-12-01   Albury     13.4     22.9       0.6          NaN   \n",
       "1       2008-12-02   Albury      7.4     25.1       0.0          NaN   \n",
       "2       2008-12-03   Albury     12.9     25.7       0.0          NaN   \n",
       "3       2008-12-04   Albury      9.2     28.0       0.0          NaN   \n",
       "4       2008-12-05   Albury     17.5     32.3       1.0          NaN   \n",
       "...            ...      ...      ...      ...       ...          ...   \n",
       "144548  2014-12-27    Uluru     16.9     33.2       0.0          NaN   \n",
       "144549  2014-12-28    Uluru     15.1     36.8       0.0          NaN   \n",
       "144550  2014-12-29    Uluru     17.3     37.8       0.0          NaN   \n",
       "144551  2014-12-30    Uluru     20.1     38.5       0.0          NaN   \n",
       "144552  2014-12-31    Uluru     22.5     39.6       0.0          NaN   \n",
       "\n",
       "        Sunshine WindGustDir  WindGustSpeed WindDir9am WindDir3pm  \\\n",
       "0            NaN           W           44.0          W        WNW   \n",
       "1            NaN         WNW           44.0        NNW        WSW   \n",
       "2            NaN         WSW           46.0          W        WSW   \n",
       "3            NaN          NE           24.0         SE          E   \n",
       "4            NaN           W           41.0        ENE         NW   \n",
       "...          ...         ...            ...        ...        ...   \n",
       "144548       NaN         SSE           43.0        ESE        SSE   \n",
       "144549       NaN          NE           31.0        ENE         SW   \n",
       "144550       NaN         ESE           39.0        ESE        SSE   \n",
       "144551       NaN         ESE           43.0        ESE        SSW   \n",
       "144552       NaN         WNW           76.0        ENE        SSW   \n",
       "\n",
       "        WindSpeed9am  WindSpeed3pm  Humidity9am  Humidity3pm  Pressure9am  \\\n",
       "0               20.0          24.0         71.0         22.0       1007.7   \n",
       "1                4.0          22.0         44.0         25.0       1010.6   \n",
       "2               19.0          26.0         38.0         30.0       1007.6   \n",
       "3               11.0           9.0         45.0         16.0       1017.6   \n",
       "4                7.0          20.0         82.0         33.0       1010.8   \n",
       "...              ...           ...          ...          ...          ...   \n",
       "144548          24.0          26.0         22.0         13.0       1014.1   \n",
       "144549          19.0          20.0         16.0          8.0       1012.6   \n",
       "144550          26.0           9.0         15.0          8.0       1011.9   \n",
       "144551          28.0          17.0         22.0          9.0       1014.0   \n",
       "144552          30.0          13.0         16.0          9.0       1012.1   \n",
       "\n",
       "        Pressure3pm  Cloud9am  Cloud3pm  Temp9am  Temp3pm RainToday  \\\n",
       "0            1007.1       8.0       NaN     16.9     21.8        No   \n",
       "1            1007.8       NaN       NaN     17.2     24.3        No   \n",
       "2            1008.7       NaN       2.0     21.0     23.2        No   \n",
       "3            1012.8       NaN       NaN     18.1     26.5        No   \n",
       "4            1006.0       7.0       8.0     17.8     29.7        No   \n",
       "...             ...       ...       ...      ...      ...       ...   \n",
       "144548       1009.8       NaN       NaN     23.7     31.8        No   \n",
       "144549       1007.6       NaN       NaN     28.9     34.8        No   \n",
       "144550       1008.0       NaN       NaN     29.7     35.7        No   \n",
       "144551       1009.2       NaN       NaN     29.8     37.2        No   \n",
       "144552       1006.2       NaN       NaN     30.1     37.4        No   \n",
       "\n",
       "       RainTomorrow  month  weekday  day  \n",
       "0                No     12        0    1  \n",
       "1                No     12        1    2  \n",
       "2                No     12        2    3  \n",
       "3                No     12        3    4  \n",
       "4                No     12        4    5  \n",
       "...             ...    ...      ...  ...  \n",
       "144548           No     12        5   27  \n",
       "144549           No     12        6   28  \n",
       "144550           No     12        0   29  \n",
       "144551           No     12        1   30  \n",
       "144552           No     12        2   31  \n",
       "\n",
       "[101018 rows x 26 columns]"
      ]
     },
     "execution_count": 17,
     "metadata": {},
     "output_type": "execute_result"
    }
   ],
   "source": [
    "train_df"
   ]
  },
  {
   "cell_type": "code",
   "execution_count": 18,
   "id": "bb77caca",
   "metadata": {},
   "outputs": [
    {
     "data": {
      "text/plain": [
       "Date                 0\n",
       "Location             0\n",
       "MinTemp            736\n",
       "MaxTemp            534\n",
       "Rainfall          2031\n",
       "Evaporation      38486\n",
       "Sunshine         42008\n",
       "WindGustDir       7665\n",
       "WindGustSpeed     7623\n",
       "WindDir9am        7745\n",
       "WindDir3pm        2367\n",
       "WindSpeed9am      1454\n",
       "WindSpeed3pm      1462\n",
       "Humidity9am       1590\n",
       "Humidity3pm       1504\n",
       "Pressure9am       9800\n",
       "Pressure3pm       9766\n",
       "Cloud9am         37105\n",
       "Cloud3pm         38130\n",
       "Temp9am           1105\n",
       "Temp3pm            978\n",
       "RainToday         2031\n",
       "RainTomorrow      2030\n",
       "month                0\n",
       "weekday              0\n",
       "day                  0\n",
       "dtype: int64"
      ]
     },
     "execution_count": 18,
     "metadata": {},
     "output_type": "execute_result"
    }
   ],
   "source": [
    "#checking for missing values\n",
    "\n",
    "train_df.isna().sum()"
   ]
  },
  {
   "cell_type": "markdown",
   "id": "59a4fd61",
   "metadata": {},
   "source": [
    "our dataset contains missing values"
   ]
  },
  {
   "cell_type": "markdown",
   "id": "80d11748",
   "metadata": {},
   "source": [
    "our target should not have an empty value. So therefore i would be dropping rows where the value of RainTommorow is empty"
   ]
  },
  {
   "cell_type": "code",
   "execution_count": 19,
   "id": "be5c1f9c",
   "metadata": {},
   "outputs": [],
   "source": [
    "train_df.dropna(subset = [\"RainTomorrow\"], inplace=True)\n",
    "val_df.dropna(subset = [\"RainTomorrow\"], inplace=True)\n",
    "test_df.dropna(subset = [\"RainTomorrow\"], inplace=True)"
   ]
  },
  {
   "cell_type": "markdown",
   "id": "3284c320",
   "metadata": {},
   "source": [
    "**Identifying input and target columns**"
   ]
  },
  {
   "cell_type": "code",
   "execution_count": 20,
   "id": "2c5da2dc",
   "metadata": {},
   "outputs": [],
   "source": [
    "input_cols = list(train_df.columns)[1:-4] + ['month', 'weekday', 'day']"
   ]
  },
  {
   "cell_type": "code",
   "execution_count": 21,
   "id": "aa2cfb0a",
   "metadata": {},
   "outputs": [],
   "source": [
    "target_cols = 'RainTomorrow'"
   ]
  },
  {
   "cell_type": "code",
   "execution_count": 22,
   "id": "899cbf27",
   "metadata": {},
   "outputs": [],
   "source": [
    "train_inputs = train_df[input_cols].copy()\n",
    "train_targets = train_df[target_cols].copy()"
   ]
  },
  {
   "cell_type": "code",
   "execution_count": 23,
   "id": "d6abe424",
   "metadata": {},
   "outputs": [],
   "source": [
    "val_inputs = val_df[input_cols].copy()\n",
    "val_targets = val_df[target_cols].copy()"
   ]
  },
  {
   "cell_type": "code",
   "execution_count": 24,
   "id": "265255dd",
   "metadata": {},
   "outputs": [],
   "source": [
    "test_inputs = test_df[input_cols].copy()\n",
    "test_targets = test_df[target_cols].copy()"
   ]
  },
  {
   "cell_type": "markdown",
   "id": "b76d3dfb",
   "metadata": {},
   "source": [
    "**identifying numerical and categorical columns**"
   ]
  },
  {
   "cell_type": "code",
   "execution_count": 25,
   "id": "68058cd2",
   "metadata": {},
   "outputs": [],
   "source": [
    "numeric_cols = train_inputs.select_dtypes(include=np.number).columns.to_list()\n",
    "categorical_cols = train_inputs.select_dtypes('object').columns.to_list()"
   ]
  },
  {
   "cell_type": "code",
   "execution_count": 26,
   "id": "f34f91ae",
   "metadata": {},
   "outputs": [
    {
     "data": {
      "text/plain": [
       "['Location', 'WindGustDir', 'WindDir9am', 'WindDir3pm', 'RainToday']"
      ]
     },
     "execution_count": 26,
     "metadata": {},
     "output_type": "execute_result"
    }
   ],
   "source": [
    "categorical_cols"
   ]
  },
  {
   "cell_type": "code",
   "execution_count": 27,
   "id": "09ac8199",
   "metadata": {},
   "outputs": [
    {
     "data": {
      "text/plain": [
       "['MinTemp',\n",
       " 'MaxTemp',\n",
       " 'Rainfall',\n",
       " 'Evaporation',\n",
       " 'Sunshine',\n",
       " 'WindGustSpeed',\n",
       " 'WindSpeed9am',\n",
       " 'WindSpeed3pm',\n",
       " 'Humidity9am',\n",
       " 'Humidity3pm',\n",
       " 'Pressure9am',\n",
       " 'Pressure3pm',\n",
       " 'Cloud9am',\n",
       " 'Cloud3pm',\n",
       " 'Temp9am',\n",
       " 'Temp3pm',\n",
       " 'month',\n",
       " 'weekday',\n",
       " 'day']"
      ]
     },
     "execution_count": 27,
     "metadata": {},
     "output_type": "execute_result"
    }
   ],
   "source": [
    "numeric_cols"
   ]
  },
  {
   "cell_type": "markdown",
   "id": "450cf25e",
   "metadata": {},
   "source": [
    "**imputing categorical columns**"
   ]
  },
  {
   "cell_type": "code",
   "execution_count": 28,
   "id": "cf4daf2d",
   "metadata": {},
   "outputs": [],
   "source": [
    "from sklearn.impute import SimpleImputer"
   ]
  },
  {
   "cell_type": "code",
   "execution_count": 29,
   "id": "e2d1a2a1",
   "metadata": {},
   "outputs": [],
   "source": [
    "imputer = SimpleImputer(strategy='most_frequent')"
   ]
  },
  {
   "cell_type": "code",
   "execution_count": 30,
   "id": "2f1e79ac",
   "metadata": {},
   "outputs": [
    {
     "data": {
      "text/plain": [
       "SimpleImputer(strategy='most_frequent')"
      ]
     },
     "execution_count": 30,
     "metadata": {},
     "output_type": "execute_result"
    }
   ],
   "source": [
    "imputer.fit(train_inputs[categorical_cols])"
   ]
  },
  {
   "cell_type": "code",
   "execution_count": 31,
   "id": "d2220f8e",
   "metadata": {},
   "outputs": [],
   "source": [
    "train_inputs[categorical_cols] = imputer.transform(train_inputs[categorical_cols])\n",
    "val_inputs[categorical_cols] = imputer.transform(val_inputs[categorical_cols])\n",
    "test_inputs[categorical_cols] = imputer.transform(test_inputs[categorical_cols])"
   ]
  },
  {
   "cell_type": "markdown",
   "id": "1813598c",
   "metadata": {},
   "source": [
    "**imputing numeric columns**"
   ]
  },
  {
   "cell_type": "code",
   "execution_count": 32,
   "id": "22df4c5c",
   "metadata": {},
   "outputs": [],
   "source": [
    "from sklearn.impute import SimpleImputer"
   ]
  },
  {
   "cell_type": "code",
   "execution_count": 33,
   "id": "1688f430",
   "metadata": {},
   "outputs": [],
   "source": [
    "imputer = SimpleImputer(strategy='mean')"
   ]
  },
  {
   "cell_type": "code",
   "execution_count": 34,
   "id": "6135ba3f",
   "metadata": {},
   "outputs": [
    {
     "data": {
      "text/plain": [
       "SimpleImputer()"
      ]
     },
     "execution_count": 34,
     "metadata": {},
     "output_type": "execute_result"
    }
   ],
   "source": [
    "imputer.fit(train_inputs[numeric_cols])"
   ]
  },
  {
   "cell_type": "code",
   "execution_count": 35,
   "id": "496b0a09",
   "metadata": {},
   "outputs": [],
   "source": [
    "train_inputs[numeric_cols] = imputer.transform(train_inputs[numeric_cols])\n",
    "val_inputs[numeric_cols] = imputer.transform(val_inputs[numeric_cols])\n",
    "test_inputs[numeric_cols] = imputer.transform(test_inputs[numeric_cols])"
   ]
  },
  {
   "cell_type": "code",
   "execution_count": 36,
   "id": "1ed747bb",
   "metadata": {},
   "outputs": [
    {
     "data": {
      "text/plain": [
       "Location         0\n",
       "MinTemp          0\n",
       "MaxTemp          0\n",
       "Rainfall         0\n",
       "Evaporation      0\n",
       "Sunshine         0\n",
       "WindGustDir      0\n",
       "WindGustSpeed    0\n",
       "WindDir9am       0\n",
       "WindDir3pm       0\n",
       "WindSpeed9am     0\n",
       "WindSpeed3pm     0\n",
       "Humidity9am      0\n",
       "Humidity3pm      0\n",
       "Pressure9am      0\n",
       "Pressure3pm      0\n",
       "Cloud9am         0\n",
       "Cloud3pm         0\n",
       "Temp9am          0\n",
       "Temp3pm          0\n",
       "RainToday        0\n",
       "month            0\n",
       "weekday          0\n",
       "day              0\n",
       "dtype: int64"
      ]
     },
     "execution_count": 36,
     "metadata": {},
     "output_type": "execute_result"
    }
   ],
   "source": [
    "val_inputs.isna().sum()"
   ]
  },
  {
   "cell_type": "markdown",
   "id": "b86d095d",
   "metadata": {},
   "source": [
    "No more missing Values"
   ]
  },
  {
   "cell_type": "markdown",
   "id": "55d87f4f",
   "metadata": {},
   "source": [
    "**scaling numeric columns**"
   ]
  },
  {
   "cell_type": "code",
   "execution_count": 37,
   "id": "2fbd4dcb",
   "metadata": {},
   "outputs": [],
   "source": [
    "from sklearn.preprocessing import MinMaxScaler"
   ]
  },
  {
   "cell_type": "code",
   "execution_count": 38,
   "id": "faf78eea",
   "metadata": {},
   "outputs": [],
   "source": [
    "scaler = MinMaxScaler().fit(train_inputs[numeric_cols])"
   ]
  },
  {
   "cell_type": "code",
   "execution_count": 39,
   "id": "4d3dffae",
   "metadata": {},
   "outputs": [],
   "source": [
    "train_inputs[numeric_cols] = scaler.transform(train_inputs[numeric_cols])\n",
    "test_inputs[numeric_cols] = scaler.transform(test_inputs[numeric_cols])\n",
    "val_inputs[numeric_cols] = scaler.transform(val_inputs[numeric_cols])"
   ]
  },
  {
   "cell_type": "markdown",
   "id": "489e8f1b",
   "metadata": {},
   "source": [
    "**one-hot-encoding categorical columns**"
   ]
  },
  {
   "cell_type": "code",
   "execution_count": 40,
   "id": "c2183d92",
   "metadata": {},
   "outputs": [],
   "source": [
    "from sklearn.preprocessing import OneHotEncoder"
   ]
  },
  {
   "cell_type": "code",
   "execution_count": 41,
   "id": "6a619b77",
   "metadata": {},
   "outputs": [],
   "source": [
    "?OneHotEncoder"
   ]
  },
  {
   "cell_type": "code",
   "execution_count": 42,
   "id": "fe188959",
   "metadata": {},
   "outputs": [],
   "source": [
    "encoder = OneHotEncoder(sparse=False, handle_unknown='ignore').fit(train_inputs[categorical_cols])"
   ]
  },
  {
   "cell_type": "code",
   "execution_count": 43,
   "id": "3ea3af79",
   "metadata": {},
   "outputs": [],
   "source": [
    "encoded_cols = list(encoder.get_feature_names_out(categorical_cols))"
   ]
  },
  {
   "cell_type": "code",
   "execution_count": 44,
   "id": "c2319a15",
   "metadata": {},
   "outputs": [
    {
     "name": "stderr",
     "output_type": "stream",
     "text": [
      "C:\\Users\\Wells\\AppData\\Local\\Temp\\ipykernel_8828\\1584174743.py:1: PerformanceWarning: DataFrame is highly fragmented.  This is usually the result of calling `frame.insert` many times, which has poor performance.  Consider joining all columns at once using pd.concat(axis=1) instead. To get a de-fragmented frame, use `newframe = frame.copy()`\n",
      "  train_inputs[encoded_cols] = encoder.transform(train_inputs[categorical_cols])\n",
      "C:\\Users\\Wells\\AppData\\Local\\Temp\\ipykernel_8828\\1584174743.py:2: PerformanceWarning: DataFrame is highly fragmented.  This is usually the result of calling `frame.insert` many times, which has poor performance.  Consider joining all columns at once using pd.concat(axis=1) instead. To get a de-fragmented frame, use `newframe = frame.copy()`\n",
      "  val_inputs[encoded_cols] = encoder.transform(val_inputs[categorical_cols])\n",
      "C:\\Users\\Wells\\AppData\\Local\\Temp\\ipykernel_8828\\1584174743.py:3: PerformanceWarning: DataFrame is highly fragmented.  This is usually the result of calling `frame.insert` many times, which has poor performance.  Consider joining all columns at once using pd.concat(axis=1) instead. To get a de-fragmented frame, use `newframe = frame.copy()`\n",
      "  test_inputs[encoded_cols] = encoder.transform(test_inputs[categorical_cols])\n"
     ]
    }
   ],
   "source": [
    "train_inputs[encoded_cols] = encoder.transform(train_inputs[categorical_cols])\n",
    "val_inputs[encoded_cols] = encoder.transform(val_inputs[categorical_cols])\n",
    "test_inputs[encoded_cols] = encoder.transform(test_inputs[categorical_cols])"
   ]
  },
  {
   "cell_type": "code",
   "execution_count": 45,
   "id": "083331e0",
   "metadata": {},
   "outputs": [],
   "source": [
    "X_train = train_inputs[encoded_cols + numeric_cols]\n",
    "X_val = val_inputs[encoded_cols + numeric_cols]\n",
    "X_test = test_inputs[encoded_cols + numeric_cols]"
   ]
  },
  {
   "cell_type": "markdown",
   "id": "a3037628",
   "metadata": {},
   "source": [
    "# Exploratory Data Analysis"
   ]
  },
  {
   "cell_type": "markdown",
   "id": "e1471879",
   "metadata": {},
   "source": [
    "Lets Look at the distribution of some columns"
   ]
  },
  {
   "cell_type": "code",
   "execution_count": 46,
   "id": "edcde027",
   "metadata": {},
   "outputs": [
    {
     "data": {
      "image/png": "[encoded data removed]",
      "text/plain": [
       "<Figure size 720x432 with 1 Axes>"
      ]
     },
     "metadata": {
      "needs_background": "light"
     },
     "output_type": "display_data"
    }
   ],
   "source": [
    "plt.title('Distribution of Rain Tomorrow')\n",
    "sns.histplot(rain_df.RainTomorrow);"
   ]
  },
  {
   "cell_type": "markdown",
   "id": "8a3c84f8",
   "metadata": {},
   "source": [
    "This shows that Australia as a country has a very limited amount of rainfall"
   ]
  },
  {
   "cell_type": "markdown",
   "id": "3f13899b",
   "metadata": {},
   "source": [
    "*Lets look at the different locations and the amount of rainfall in each of them*"
   ]
  },
  {
   "cell_type": "code",
   "execution_count": 47,
   "id": "e60b81fc",
   "metadata": {},
   "outputs": [],
   "source": [
    "yes_rain = rain_df[rain_df.RainTomorrow == 'Yes'].groupby('Location')[['RainTomorrow']].count()"
   ]
  },
  {
   "cell_type": "code",
   "execution_count": 48,
   "id": "6fdd6896",
   "metadata": {},
   "outputs": [
    {
     "data": {
      "image/png": "[encoded data removed]",
      "text/plain": [
       "<Figure size 1008x648 with 1 Axes>"
      ]
     },
     "metadata": {
      "needs_background": "light"
     },
     "output_type": "display_data"
    }
   ],
   "source": [
    "plt.figure(figsize=(14, 9))\n",
    "sns.barplot(x=yes_rain.index, y=yes_rain.RainTomorrow);\n",
    "plt.xticks(rotation=82);\n",
    "plt.title('Amount of rainfall in different Locations across Australia');"
   ]
  },
  {
   "cell_type": "markdown",
   "id": "448f9b0f",
   "metadata": {},
   "source": [
    "Now, we have gone through the visualization of the amount of rain in different locations in australia.\n",
    "\n",
    "We can see through the visualization above that \"Portland\" has the highest amount of rainfall in australia than any other locations, while \"Uluru\" has the lowest amount of rainfall."
   ]
  },
  {
   "cell_type": "markdown",
   "id": "aadb3a10",
   "metadata": {},
   "source": [
    "*Lets look at the relationship between Pressure9am and Pressure3pm*"
   ]
  },
  {
   "cell_type": "code",
   "execution_count": 49,
   "id": "2a3138d5",
   "metadata": {},
   "outputs": [
    {
     "data": {
      "image/png": "[encoded data removed]",
      "text/plain": [
       "<Figure size 720x432 with 1 Axes>"
      ]
     },
     "metadata": {
      "needs_background": "light"
     },
     "output_type": "display_data"
    }
   ],
   "source": [
    "sns.scatterplot(data=rain_df, x='Pressure9am', y='Pressure3pm', hue='RainTomorrow');\n",
    "plt.title('relationship between Pressure9am and Pressure3pm');"
   ]
  },
  {
   "cell_type": "markdown",
   "id": "03fa02ec",
   "metadata": {},
   "source": [
    "Looking at the Visualization above, We can see that more of the plots when RainTomorrow is \"No\" has the Pressure9am and Pressure3pm high"
   ]
  },
  {
   "cell_type": "markdown",
   "id": "fe33b152",
   "metadata": {},
   "source": [
    "Therefore we can draw the following insight from the chart:\n",
    "\n",
    "1. Pressure9am and Pressure3pm affects whether rain would fall the next day.\n",
    "\n",
    "2. The more higher the Pressure9am and Pressure3pm of that day, the more unlikely of rain falling the next day"
   ]
  },
  {
   "cell_type": "markdown",
   "id": "0770666d",
   "metadata": {},
   "source": [
    "*Lets take a quick look at the weekdays rain fall the most in australlia*"
   ]
  },
  {
   "cell_type": "code",
   "execution_count": 50,
   "id": "298b55d3",
   "metadata": {},
   "outputs": [],
   "source": [
    "yes_rain_2 = train_df[train_df.RainTomorrow == 'Yes'].groupby('weekday')[['RainTomorrow']].count()"
   ]
  },
  {
   "cell_type": "code",
   "execution_count": 51,
   "id": "53393cc7",
   "metadata": {},
   "outputs": [
    {
     "data": {
      "image/png": "[encoded data removed]",
      "text/plain": [
       "<Figure size 720x432 with 1 Axes>"
      ]
     },
     "metadata": {
      "needs_background": "light"
     },
     "output_type": "display_data"
    }
   ],
   "source": [
    "plt.plot(yes_rain_2.index, yes_rain_2.RainTomorrow, 'd--g');\n",
    "plt.title('Amount of rainfall during each weekday');\n",
    "plt.xticks([0, 1, 2, 3, 4, 5, 6], ['Monday', 'Tuesday', 'Wednessday', 'Thursday', 'Friday', 'Saturday', 'Sunday']);\n",
    "plt.xlabel('weekdays');\n",
    "plt.ylabel('amount of rainfall');"
   ]
  },
  {
   "cell_type": "markdown",
   "id": "25e189a1",
   "metadata": {},
   "source": [
    "Thursdays are the days when rain mostly falls in Australia"
   ]
  },
  {
   "cell_type": "markdown",
   "id": "d2ef89b3",
   "metadata": {},
   "source": [
    "# Training a Logistic Regression Model"
   ]
  },
  {
   "cell_type": "code",
   "execution_count": 52,
   "id": "bff84539",
   "metadata": {},
   "outputs": [],
   "source": [
    "from sklearn.linear_model import LogisticRegression"
   ]
  },
  {
   "cell_type": "code",
   "execution_count": 53,
   "id": "7fae9253",
   "metadata": {},
   "outputs": [],
   "source": [
    "?LogisticRegression"
   ]
  },
  {
   "cell_type": "code",
   "execution_count": 54,
   "id": "86de7285",
   "metadata": {},
   "outputs": [
    {
     "name": "stderr",
     "output_type": "stream",
     "text": [
      "C:\\ProgramData\\Anaconda3\\lib\\site-packages\\sklearn\\linear_model\\_logistic.py:814: ConvergenceWarning: lbfgs failed to converge (status=1):\n",
      "STOP: TOTAL NO. of ITERATIONS REACHED LIMIT.\n",
      "\n",
      "Increase the number of iterations (max_iter) or scale the data as shown in:\n",
      "    https://scikit-learn.org/stable/modules/preprocessing.html\n",
      "Please also refer to the documentation for alternative solver options:\n",
      "    https://scikit-learn.org/stable/modules/linear_model.html#logistic-regression\n",
      "  n_iter_i = _check_optimize_result(\n"
     ]
    }
   ],
   "source": [
    "model = LogisticRegression(random_state=42).fit(X_train, train_targets)"
   ]
  },
  {
   "cell_type": "code",
   "execution_count": 55,
   "id": "3437839a",
   "metadata": {},
   "outputs": [
    {
     "data": {
      "text/plain": [
       "0.8496484422354225"
      ]
     },
     "execution_count": 55,
     "metadata": {},
     "output_type": "execute_result"
    }
   ],
   "source": [
    "model.score(X_train, train_targets)"
   ]
  },
  {
   "cell_type": "markdown",
   "id": "c3e5357d",
   "metadata": {},
   "source": [
    "**hyperparameter tuning**"
   ]
  },
  {
   "cell_type": "markdown",
   "id": "d3826b9b",
   "metadata": {},
   "source": [
    "Lets define a helper function to check for the best solver hyperparameter"
   ]
  },
  {
   "cell_type": "code",
   "execution_count": 56,
   "id": "63fefe1b",
   "metadata": {},
   "outputs": [],
   "source": [
    "def solver(solver):\n",
    "    model = LogisticRegression(random_state = 42, solver=solver)\n",
    "    model.fit(X_train, train_targets)\n",
    "    train_error = 1- model.score(X_train, train_targets)\n",
    "    val_error = 1- model.score(X_val, val_targets)\n",
    "    test_error = 1- model.score(X_test, test_targets)\n",
    "    return {'solver': solver, 'train_error': train_error, 'val_error': val_error, 'test_error': test_error}"
   ]
  },
  {
   "cell_type": "code",
   "execution_count": 57,
   "id": "27823d58",
   "metadata": {},
   "outputs": [
    {
     "name": "stderr",
     "output_type": "stream",
     "text": [
      "C:\\ProgramData\\Anaconda3\\lib\\site-packages\\sklearn\\linear_model\\_logistic.py:814: ConvergenceWarning: lbfgs failed to converge (status=1):\n",
      "STOP: TOTAL NO. of ITERATIONS REACHED LIMIT.\n",
      "\n",
      "Increase the number of iterations (max_iter) or scale the data as shown in:\n",
      "    https://scikit-learn.org/stable/modules/preprocessing.html\n",
      "Please also refer to the documentation for alternative solver options:\n",
      "    https://scikit-learn.org/stable/modules/linear_model.html#logistic-regression\n",
      "  n_iter_i = _check_optimize_result(\n"
     ]
    },
    {
     "data": {
      "text/plain": [
       "{'solver': 'lbfgs',\n",
       " 'train_error': 0.15035155776457754,\n",
       " 'val_error': 0.14775694968370956,\n",
       " 'test_error': 0.16019866019866025}"
      ]
     },
     "execution_count": 57,
     "metadata": {},
     "output_type": "execute_result"
    }
   ],
   "source": [
    "solver('lbfgs')"
   ]
  },
  {
   "cell_type": "code",
   "execution_count": 58,
   "id": "f305b58c",
   "metadata": {},
   "outputs": [
    {
     "data": {
      "text/plain": [
       "{'solver': 'sag',\n",
       " 'train_error': 0.15035155776457754,\n",
       " 'val_error': 0.14775694968370956,\n",
       " 'test_error': 0.16019866019866025}"
      ]
     },
     "execution_count": 58,
     "metadata": {},
     "output_type": "execute_result"
    }
   ],
   "source": [
    "solver('sag')"
   ]
  },
  {
   "cell_type": "markdown",
   "id": "83faf8d5",
   "metadata": {},
   "source": [
    "Lets also define a helper function to help us iterate over the best possible max_iter hyperparameter"
   ]
  },
  {
   "cell_type": "code",
   "execution_count": 59,
   "id": "adefd69f",
   "metadata": {},
   "outputs": [],
   "source": [
    "def max_iter(mi):\n",
    "    model = LogisticRegression(random_state = 42, solver='sag', max_iter=mi)\n",
    "    model.fit(X_train, train_targets)\n",
    "    train_error = 1- model.score(X_train, train_targets)\n",
    "    val_error = 1- model.score(X_val, val_targets)\n",
    "    test_error = 1- model.score(X_test, test_targets)\n",
    "    return {'max_iter': mi, 'train_error': train_error, 'val_error': val_error, 'test_error': test_error}"
   ]
  },
  {
   "cell_type": "code",
   "execution_count": 60,
   "id": "a17574ec",
   "metadata": {
    "scrolled": true
   },
   "outputs": [
    {
     "name": "stderr",
     "output_type": "stream",
     "text": [
      "C:\\ProgramData\\Anaconda3\\lib\\site-packages\\sklearn\\linear_model\\_sag.py:352: ConvergenceWarning: The max_iter was reached which means the coef_ did not converge\n",
      "  warnings.warn(\n"
     ]
    },
    {
     "data": {
      "text/plain": [
       "{'max_iter': 35,\n",
       " 'train_error': 0.15035155776457754,\n",
       " 'val_error': 0.14775694968370956,\n",
       " 'test_error': 0.16019866019866025}"
      ]
     },
     "execution_count": 60,
     "metadata": {},
     "output_type": "execute_result"
    }
   ],
   "source": [
    "max_iter(35)"
   ]
  },
  {
   "cell_type": "markdown",
   "id": "2ce76180",
   "metadata": {},
   "source": [
    "*Lets put the hyperparameters all together and train the model*"
   ]
  },
  {
   "cell_type": "code",
   "execution_count": 61,
   "id": "af112776",
   "metadata": {},
   "outputs": [],
   "source": [
    "model = LogisticRegression(random_state = 42, solver='sag', max_iter=35)"
   ]
  },
  {
   "cell_type": "code",
   "execution_count": 62,
   "id": "a8cd51d4",
   "metadata": {},
   "outputs": [
    {
     "name": "stderr",
     "output_type": "stream",
     "text": [
      "C:\\ProgramData\\Anaconda3\\lib\\site-packages\\sklearn\\linear_model\\_sag.py:352: ConvergenceWarning: The max_iter was reached which means the coef_ did not converge\n",
      "  warnings.warn(\n"
     ]
    },
    {
     "data": {
      "text/plain": [
       "LogisticRegression(max_iter=35, random_state=42, solver='sag')"
      ]
     },
     "execution_count": 62,
     "metadata": {},
     "output_type": "execute_result"
    }
   ],
   "source": [
    "model.fit(X_train, train_targets)"
   ]
  },
  {
   "cell_type": "code",
   "execution_count": 63,
   "id": "ef347ccf",
   "metadata": {},
   "outputs": [],
   "source": [
    "train_pred = model.predict(X_train)\n",
    "val_pred = model.predict(X_val)\n",
    "test_pred = model.predict(X_test)"
   ]
  },
  {
   "cell_type": "markdown",
   "id": "a6912bca",
   "metadata": {},
   "source": [
    "**accuracy of the model**"
   ]
  },
  {
   "cell_type": "code",
   "execution_count": 64,
   "id": "040abecd",
   "metadata": {},
   "outputs": [
    {
     "name": "stdout",
     "output_type": "stream",
     "text": [
      "train accuracy: 85.0%\n"
     ]
    }
   ],
   "source": [
    "train_acc = round(model.score(X_train, train_targets), 3)\n",
    "print(\"train accuracy: {:2}%\".format(train_acc *100))"
   ]
  },
  {
   "cell_type": "code",
   "execution_count": 65,
   "id": "fd4f64b1",
   "metadata": {},
   "outputs": [
    {
     "name": "stdout",
     "output_type": "stream",
     "text": [
      "validation accuracy: 85.2%\n"
     ]
    }
   ],
   "source": [
    "val_acc = round(model.score(X_val, val_targets), 3)\n",
    "print(\"validation accuracy: {:2}%\".format(val_acc *100))"
   ]
  },
  {
   "cell_type": "code",
   "execution_count": 66,
   "id": "07e3e78f",
   "metadata": {},
   "outputs": [
    {
     "name": "stdout",
     "output_type": "stream",
     "text": [
      "test accuracy: 84.0%\n"
     ]
    }
   ],
   "source": [
    "test_acc = round(model.score(X_test, test_targets), 3)\n",
    "print(\"test accuracy: {:2}%\".format(test_acc *100))"
   ]
  },
  {
   "cell_type": "markdown",
   "id": "4749a7c0",
   "metadata": {},
   "source": [
    "The model had a **training accuracy of 85%**, a **validation accuracy of 85.2%**, and a **test accuracy of 84%**"
   ]
  },
  {
   "cell_type": "markdown",
   "id": "d3422b73",
   "metadata": {},
   "source": [
    "**probalbility distribution of the model**"
   ]
  },
  {
   "cell_type": "code",
   "execution_count": 67,
   "id": "00358c1c",
   "metadata": {},
   "outputs": [
    {
     "data": {
      "text/plain": [
       "array([[0.98826431, 0.01173569],\n",
       "       [0.96125097, 0.03874903],\n",
       "       [0.93913897, 0.06086103],\n",
       "       [0.91021213, 0.08978787],\n",
       "       [0.96050698, 0.03949302],\n",
       "       [0.97228879, 0.02771121],\n",
       "       [0.96571748, 0.03428252],\n",
       "       [0.6235183 , 0.3764817 ],\n",
       "       [0.47269183, 0.52730817],\n",
       "       [0.20230575, 0.79769425],\n",
       "       [0.84360372, 0.15639628],\n",
       "       [0.92327846, 0.07672154],\n",
       "       [0.0859319 , 0.9140681 ],\n",
       "       [0.26993203, 0.73006797],\n",
       "       [0.78550958, 0.21449042],\n",
       "       [0.92035931, 0.07964069],\n",
       "       [0.87750648, 0.12249352],\n",
       "       [0.96360945, 0.03639055],\n",
       "       [0.9741044 , 0.0258956 ],\n",
       "       [0.81224377, 0.18775623]])"
      ]
     },
     "execution_count": 67,
     "metadata": {},
     "output_type": "execute_result"
    }
   ],
   "source": [
    "val_prob = model.predict_proba(X_val)\n",
    "val_prob[0:20]"
   ]
  },
  {
   "cell_type": "markdown",
   "id": "2309b009",
   "metadata": {},
   "source": [
    "The probability of the model is quite high for each prediction"
   ]
  },
  {
   "cell_type": "markdown",
   "id": "079110d0",
   "metadata": {},
   "source": [
    "**confusion matrix of the model**"
   ]
  },
  {
   "cell_type": "markdown",
   "id": "bc60789a",
   "metadata": {},
   "source": [
    "It shows us the True Negative, False Positive, False Negative, True Positive of the model"
   ]
  },
  {
   "cell_type": "code",
   "execution_count": 68,
   "id": "3ff9f238",
   "metadata": {},
   "outputs": [],
   "source": [
    "from sklearn.metrics import confusion_matrix as cf"
   ]
  },
  {
   "cell_type": "code",
   "execution_count": 69,
   "id": "eb3a7d10",
   "metadata": {},
   "outputs": [
    {
     "data": {
      "text/plain": [
       "array([[0.94727382, 0.05272618],\n",
       "       [0.5221998 , 0.4778002 ]])"
      ]
     },
     "execution_count": 69,
     "metadata": {},
     "output_type": "execute_result"
    }
   ],
   "source": [
    "test_confusion = cf(test_targets, test_pred, normalize='true')\n",
    "test_confusion"
   ]
  },
  {
   "cell_type": "markdown",
   "id": "f84ea2d7",
   "metadata": {},
   "source": [
    "The confusion matrix above tells us the performance of the model as follows:\n",
    "\n",
    "1. 95% of the predicted NO was actually NO.\n",
    "2. 5% of the predicted YES was actaully NO.\n",
    "3. 52% of the predicted YES was actually YES.\n",
    "4. 48% of the predicted NO was actually YES."
   ]
  },
  {
   "cell_type": "markdown",
   "id": "f299a089",
   "metadata": {},
   "source": [
    "*lets plot a heatmap for the confusion matrix above*"
   ]
  },
  {
   "cell_type": "code",
   "execution_count": 70,
   "id": "a78b1e85",
   "metadata": {},
   "outputs": [
    {
     "data": {
      "image/png": "[encoded data removed]",
      "text/plain": [
       "<Figure size 720x432 with 2 Axes>"
      ]
     },
     "metadata": {
      "needs_background": "light"
     },
     "output_type": "display_data"
    }
   ],
   "source": [
    "sns.heatmap(test_confusion, center=0, annot=True, linewidths=.5, linecolor='b', xticklabels=['Predicted NO', 'Predicted YES'], yticklabels=['Actual NO', 'Actual YES']);\n",
    "plt.title('confusion matrix');"
   ]
  },
  {
   "cell_type": "markdown",
   "id": "549b21c5",
   "metadata": {},
   "source": [
    "# Training a Decision Tree Model"
   ]
  },
  {
   "cell_type": "code",
   "execution_count": 71,
   "id": "b1dd01e3",
   "metadata": {},
   "outputs": [],
   "source": [
    "from sklearn.tree import DecisionTreeClassifier"
   ]
  },
  {
   "cell_type": "code",
   "execution_count": 72,
   "id": "63f2443f",
   "metadata": {},
   "outputs": [],
   "source": [
    "?DecisionTreeClassifier"
   ]
  },
  {
   "cell_type": "code",
   "execution_count": 73,
   "id": "e4bb05a9",
   "metadata": {},
   "outputs": [],
   "source": [
    "model2 = DecisionTreeClassifier(random_state=42)"
   ]
  },
  {
   "cell_type": "code",
   "execution_count": 74,
   "id": "12e18c2d",
   "metadata": {},
   "outputs": [
    {
     "data": {
      "text/plain": [
       "DecisionTreeClassifier(random_state=42)"
      ]
     },
     "execution_count": 74,
     "metadata": {},
     "output_type": "execute_result"
    }
   ],
   "source": [
    "model2.fit(X_train, train_targets)"
   ]
  },
  {
   "cell_type": "code",
   "execution_count": 75,
   "id": "9764631d",
   "metadata": {},
   "outputs": [
    {
     "data": {
      "text/plain": [
       "(1.0, 0.787940340084731, 0.7745822745822746)"
      ]
     },
     "execution_count": 75,
     "metadata": {},
     "output_type": "execute_result"
    }
   ],
   "source": [
    "model2.score(X_train, train_targets), model2.score(X_val, val_targets), model2.score(X_test, test_targets)"
   ]
  },
  {
   "cell_type": "markdown",
   "id": "87a7b87d",
   "metadata": {},
   "source": [
    "The model is having a training accuracy of 100%, a validation accuracy of 79% and a test accuracy of 77%.\n",
    "\n",
    "This tells us that the model is overfitting, because it does not generalize well on data it hasnt seen (validation and test data)"
   ]
  },
  {
   "cell_type": "markdown",
   "id": "96cd20f6",
   "metadata": {},
   "source": [
    "**hyperparameter tuning**"
   ]
  },
  {
   "cell_type": "markdown",
   "id": "665ce903",
   "metadata": {},
   "source": [
    "We would use a helper function 'criterion' to get the best criterion hyperparameter"
   ]
  },
  {
   "cell_type": "code",
   "execution_count": 76,
   "id": "9a91bb74",
   "metadata": {},
   "outputs": [],
   "source": [
    "def criterion(ctn):\n",
    "    model2 = DecisionTreeClassifier(random_state=42, criterion=ctn)\n",
    "    model2.fit(X_train, train_targets)\n",
    "    train_error = 1 - model2.score(X_train, train_targets)\n",
    "    val_error = 1 - model2.score(X_val, val_targets)\n",
    "    test_error = 1 - model2.score(X_test, test_targets)\n",
    "    return {'criterion': ctn, 'train_error': train_error, 'val_error': val_error, 'test_error': test_error}"
   ]
  },
  {
   "cell_type": "code",
   "execution_count": 77,
   "id": "10e7111e",
   "metadata": {},
   "outputs": [
    {
     "data": {
      "text/plain": [
       "{'criterion': 'entropy',\n",
       " 'train_error': 0.0,\n",
       " 'val_error': 0.20666241077128433,\n",
       " 'test_error': 0.2235697235697236}"
      ]
     },
     "execution_count": 77,
     "metadata": {},
     "output_type": "execute_result"
    }
   ],
   "source": [
    "criterion('entropy')"
   ]
  },
  {
   "cell_type": "code",
   "execution_count": 78,
   "id": "5ef58e35",
   "metadata": {},
   "outputs": [
    {
     "data": {
      "text/plain": [
       "{'criterion': 'gini',\n",
       " 'train_error': 0.0,\n",
       " 'val_error': 0.21205965991526898,\n",
       " 'test_error': 0.22541772541772542}"
      ]
     },
     "execution_count": 78,
     "metadata": {},
     "output_type": "execute_result"
    }
   ],
   "source": [
    "criterion('gini')"
   ]
  },
  {
   "cell_type": "markdown",
   "id": "a60a6cfe",
   "metadata": {},
   "source": [
    "We would use a helper function 'splitter' to get the best splitter hyperparameter"
   ]
  },
  {
   "cell_type": "code",
   "execution_count": 79,
   "id": "39ee04f3",
   "metadata": {},
   "outputs": [],
   "source": [
    "def splitter(split):\n",
    "    model2 = DecisionTreeClassifier(random_state=42, splitter=split)\n",
    "    model2.fit(X_train, train_targets)\n",
    "    train_error = 1 - model2.score(X_train, train_targets)\n",
    "    val_error = 1 - model2.score(X_val, val_targets)\n",
    "    test_error = 1 - model2.score(X_test, test_targets)\n",
    "    return {'splitter': split, 'train_error': train_error, 'val_error': val_error, 'test_error': test_error}"
   ]
  },
  {
   "cell_type": "code",
   "execution_count": 80,
   "id": "f39b33c3",
   "metadata": {},
   "outputs": [
    {
     "data": {
      "text/plain": [
       "{'splitter': 'best',\n",
       " 'train_error': 0.0,\n",
       " 'val_error': 0.21205965991526898,\n",
       " 'test_error': 0.22541772541772542}"
      ]
     },
     "execution_count": 80,
     "metadata": {},
     "output_type": "execute_result"
    }
   ],
   "source": [
    "splitter('best')"
   ]
  },
  {
   "cell_type": "code",
   "execution_count": 81,
   "id": "d4bb2444",
   "metadata": {},
   "outputs": [
    {
     "data": {
      "text/plain": [
       "{'splitter': 'random',\n",
       " 'train_error': 0.0,\n",
       " 'val_error': 0.20422494341593644,\n",
       " 'test_error': 0.2187957187957188}"
      ]
     },
     "execution_count": 81,
     "metadata": {},
     "output_type": "execute_result"
    }
   ],
   "source": [
    "splitter('random')"
   ]
  },
  {
   "cell_type": "markdown",
   "id": "2ab7f4e5",
   "metadata": {},
   "source": [
    "Lets define a helper function called 'test_params' that takes different different hyperparameters"
   ]
  },
  {
   "cell_type": "code",
   "execution_count": 82,
   "id": "ed723066",
   "metadata": {},
   "outputs": [],
   "source": [
    "def test_params(**params):\n",
    "    model2 = DecisionTreeClassifier(random_state=42, splitter= 'best', criterion='gini', **params)\n",
    "    model2.fit(X_train, train_targets)\n",
    "    train_error = 1 - model2.score(X_train, train_targets)\n",
    "    val_error = 1 - model2.score(X_val, val_targets)\n",
    "    test_error = 1 - model2.score(X_test, test_targets)\n",
    "    return {'train_error': train_error, 'val_error': val_error, 'test_error': test_error}"
   ]
  },
  {
   "cell_type": "code",
   "execution_count": 83,
   "id": "478a385c",
   "metadata": {},
   "outputs": [
    {
     "data": {
      "text/plain": [
       "{'train_error': 0.15104861195296404,\n",
       " 'val_error': 0.15588184086820267,\n",
       " 'test_error': 0.16327866327866325}"
      ]
     },
     "execution_count": 83,
     "metadata": {},
     "output_type": "execute_result"
    }
   ],
   "source": [
    "test_params(min_samples_leaf = 119, max_depth = 50, max_features = 117)"
   ]
  },
  {
   "cell_type": "markdown",
   "id": "d53643de",
   "metadata": {},
   "source": [
    "**accuracy of the model**"
   ]
  },
  {
   "cell_type": "markdown",
   "id": "a6f801d9",
   "metadata": {},
   "source": [
    "Lets put together all the hyperparameters and compute the accuracy of the model"
   ]
  },
  {
   "cell_type": "code",
   "execution_count": 84,
   "id": "38b3d51b",
   "metadata": {},
   "outputs": [],
   "source": [
    "model2 = DecisionTreeClassifier(random_state=42, splitter= 'best', criterion='gini', min_samples_leaf = 119, max_depth = 50, max_features = 117)"
   ]
  },
  {
   "cell_type": "code",
   "execution_count": 85,
   "id": "cf78c7c9",
   "metadata": {},
   "outputs": [
    {
     "data": {
      "text/plain": [
       "DecisionTreeClassifier(max_depth=50, max_features=117, min_samples_leaf=119,\n",
       "                       random_state=42)"
      ]
     },
     "execution_count": 85,
     "metadata": {},
     "output_type": "execute_result"
    }
   ],
   "source": [
    "model2.fit(X_train, train_targets)"
   ]
  },
  {
   "cell_type": "code",
   "execution_count": 86,
   "id": "f09651f7",
   "metadata": {},
   "outputs": [],
   "source": [
    "train_pred = model2.predict(X_train)\n",
    "val_pred = model2.predict(X_val)\n",
    "test_pred = model2.predict(X_test)"
   ]
  },
  {
   "cell_type": "code",
   "execution_count": 87,
   "id": "76606fc7",
   "metadata": {},
   "outputs": [
    {
     "name": "stdout",
     "output_type": "stream",
     "text": [
      "train accuracy: 85.0%\n"
     ]
    }
   ],
   "source": [
    "train_acc1 = round(model2.score(X_train, train_targets), 2)\n",
    "print(\"train accuracy: {:2}%\".format(train_acc1 *100))"
   ]
  },
  {
   "cell_type": "code",
   "execution_count": 88,
   "id": "ade8f3e6",
   "metadata": {},
   "outputs": [
    {
     "name": "stdout",
     "output_type": "stream",
     "text": [
      "validation accuracy: 84.0%\n"
     ]
    }
   ],
   "source": [
    "val_acc1 = round(model2.score(X_val, val_targets), 2)\n",
    "print(\"validation accuracy: {:2}%\".format(val_acc1 *100))"
   ]
  },
  {
   "cell_type": "code",
   "execution_count": 89,
   "id": "07c972ac",
   "metadata": {},
   "outputs": [
    {
     "name": "stdout",
     "output_type": "stream",
     "text": [
      "test accuracy: 84.0%\n"
     ]
    }
   ],
   "source": [
    "test_acc1 = round(model2.score(X_test, test_targets), 2)\n",
    "print(\"test accuracy: {:2}%\".format(test_acc1 *100))"
   ]
  },
  {
   "cell_type": "markdown",
   "id": "0321d2e5",
   "metadata": {},
   "source": [
    "The model had a **training accuracy of 85%**, a **validation accuracy of 84%**, and a **test accuracy of 84%**"
   ]
  },
  {
   "cell_type": "markdown",
   "id": "2437e02a",
   "metadata": {},
   "source": [
    "**confusion matrix of the model**"
   ]
  },
  {
   "cell_type": "markdown",
   "id": "8aa46799",
   "metadata": {},
   "source": [
    "It shows us the True Negative, False Positive, False Negative, True Positive of the model"
   ]
  },
  {
   "cell_type": "code",
   "execution_count": 90,
   "id": "29914ba4",
   "metadata": {},
   "outputs": [
    {
     "data": {
      "text/plain": [
       "array([[0.94697424, 0.05302576],\n",
       "       [0.53464514, 0.46535486]])"
      ]
     },
     "execution_count": 90,
     "metadata": {},
     "output_type": "execute_result"
    }
   ],
   "source": [
    "test_confusion = cf(test_targets, test_pred, normalize='true')\n",
    "test_confusion"
   ]
  },
  {
   "cell_type": "markdown",
   "id": "c0c9d629",
   "metadata": {},
   "source": [
    "The confusion matrix above tells us the performance of the model as follows:\n",
    "\n",
    "1. 95% of the predicted NO was actually NO.\n",
    "2. 5% of the predicted YES was actaully NO.\n",
    "3. 53% of the predicted YES was actually YES.\n",
    "4. 47% of the predicted NO was actually YES."
   ]
  },
  {
   "cell_type": "markdown",
   "id": "05542e95",
   "metadata": {},
   "source": [
    "*lets plot a heatmap for the confusion matrix above*"
   ]
  },
  {
   "cell_type": "code",
   "execution_count": 91,
   "id": "2e0a3432",
   "metadata": {},
   "outputs": [
    {
     "data": {
      "image/png": "[encoded data removed]",
      "text/plain": [
       "<Figure size 720x432 with 2 Axes>"
      ]
     },
     "metadata": {
      "needs_background": "light"
     },
     "output_type": "display_data"
    }
   ],
   "source": [
    "sns.heatmap(test_confusion, center=0.3, annot=True, linewidths=.9, linecolor='r', xticklabels=['Predicted NO', 'Predicted YES'], yticklabels=['Actual NO', 'Actual YES']);\n",
    "plt.title('confusion matrix');"
   ]
  },
  {
   "cell_type": "markdown",
   "id": "cd698cf8",
   "metadata": {},
   "source": [
    "**feature importance**"
   ]
  },
  {
   "cell_type": "markdown",
   "id": "0658bde3",
   "metadata": {},
   "source": [
    "Lets see the importance of each feature to the model"
   ]
  },
  {
   "cell_type": "code",
   "execution_count": 92,
   "id": "a63438ea",
   "metadata": {},
   "outputs": [],
   "source": [
    "importance_df = pd.DataFrame({\n",
    "    'feature': X_train.columns,\n",
    "    'importance': model2.feature_importances_\n",
    "}).sort_values('importance', ascending=False).head(20)"
   ]
  },
  {
   "cell_type": "code",
   "execution_count": 93,
   "id": "026fd8c8",
   "metadata": {},
   "outputs": [
    {
     "data": {
      "image/png": "[encoded data removed]",
      "text/plain": [
       "<Figure size 720x432 with 1 Axes>"
      ]
     },
     "metadata": {
      "needs_background": "light"
     },
     "output_type": "display_data"
    }
   ],
   "source": [
    "sns.barplot(data=importance_df, x='importance', y='feature');\n",
    "plt.title('feature importance');"
   ]
  },
  {
   "cell_type": "markdown",
   "id": "ace11615",
   "metadata": {},
   "source": [
    "The model had Humidity at 3pm as the highest importance. Which means that Humidity at 3pm has a very high determining advantage to predict if there would be rain tommorow or not."
   ]
  },
  {
   "cell_type": "markdown",
   "id": "114c8c52",
   "metadata": {},
   "source": [
    "# Training a Random Forest Model"
   ]
  },
  {
   "cell_type": "code",
   "execution_count": 94,
   "id": "ae60b74b",
   "metadata": {},
   "outputs": [],
   "source": [
    "from sklearn.ensemble import RandomForestClassifier"
   ]
  },
  {
   "cell_type": "code",
   "execution_count": 95,
   "id": "00e0f3fe",
   "metadata": {},
   "outputs": [],
   "source": [
    "?RandomForestClassifier"
   ]
  },
  {
   "cell_type": "code",
   "execution_count": 96,
   "id": "cf002475",
   "metadata": {},
   "outputs": [],
   "source": [
    "model3 = RandomForestClassifier(n_jobs=-1, random_state=42)"
   ]
  },
  {
   "cell_type": "code",
   "execution_count": 97,
   "id": "ba205157",
   "metadata": {},
   "outputs": [
    {
     "data": {
      "text/plain": [
       "RandomForestClassifier(n_jobs=-1, random_state=42)"
      ]
     },
     "execution_count": 97,
     "metadata": {},
     "output_type": "execute_result"
    }
   ],
   "source": [
    "model3.fit(X_train, train_targets)"
   ]
  },
  {
   "cell_type": "code",
   "execution_count": 98,
   "id": "67192d91",
   "metadata": {},
   "outputs": [
    {
     "data": {
      "text/plain": [
       "(0.9999595910615429, 0.853809993616157, 0.8437283437283437)"
      ]
     },
     "execution_count": 98,
     "metadata": {},
     "output_type": "execute_result"
    }
   ],
   "source": [
    "model3.score(X_train, train_targets), model3.score(X_val, val_targets), model3.score(X_test, test_targets)"
   ]
  },
  {
   "cell_type": "markdown",
   "id": "611be687",
   "metadata": {},
   "source": [
    "The model is having a training accuracy of 100%, validation accuracy of 85%, test accuracy of 84%\n"
   ]
  },
  {
   "cell_type": "code",
   "execution_count": 99,
   "id": "9e2dba4e",
   "metadata": {},
   "outputs": [
    {
     "data": {
      "text/plain": [
       "100"
      ]
     },
     "execution_count": 99,
     "metadata": {},
     "output_type": "execute_result"
    }
   ],
   "source": [
    "# number of the decision trees the random forest model used\n",
    "len(model3.estimators_)"
   ]
  },
  {
   "cell_type": "markdown",
   "id": "76dd6088",
   "metadata": {},
   "source": [
    "**hyperparameter tuning**"
   ]
  },
  {
   "cell_type": "markdown",
   "id": "822c2822",
   "metadata": {},
   "source": [
    "A helper function for criterion hyperparameter"
   ]
  },
  {
   "cell_type": "code",
   "execution_count": 100,
   "id": "d5ee2b30",
   "metadata": {},
   "outputs": [],
   "source": [
    "def criterion(ctn):\n",
    "    model3 = RandomForestClassifier(n_jobs=-1, random_state=42, criterion=ctn).fit(X_train, train_targets)\n",
    "    train_error = 1 - model3.score(X_train, train_targets)\n",
    "    val_error = 1 - model3.score(X_val, val_targets)\n",
    "    test_error = 1 - model3.score(X_test, test_targets)\n",
    "    return {'criterion ': ctn, 'train_error': train_error, 'val_error': val_error, 'test_error': test_error}"
   ]
  },
  {
   "cell_type": "code",
   "execution_count": 101,
   "id": "17e3d088",
   "metadata": {},
   "outputs": [
    {
     "data": {
      "text/plain": [
       "{'criterion ': 'gini',\n",
       " 'train_error': 4.040893845713711e-05,\n",
       " 'val_error': 0.14619000638384305,\n",
       " 'test_error': 0.1562716562716563}"
      ]
     },
     "execution_count": 101,
     "metadata": {},
     "output_type": "execute_result"
    }
   ],
   "source": [
    "criterion('gini')"
   ]
  },
  {
   "cell_type": "code",
   "execution_count": 102,
   "id": "61089199",
   "metadata": {},
   "outputs": [
    {
     "data": {
      "text/plain": [
       "{'criterion ': 'entropy',\n",
       " 'train_error': 3.0306703842852833e-05,\n",
       " 'val_error': 0.1447971678950728,\n",
       " 'test_error': 0.15704165704165707}"
      ]
     },
     "execution_count": 102,
     "metadata": {},
     "output_type": "execute_result"
    }
   ],
   "source": [
    "criterion('entropy')"
   ]
  },
  {
   "cell_type": "markdown",
   "id": "a259816b",
   "metadata": {},
   "source": [
    "A helper function called 'test_params' to test different hyperparameters"
   ]
  },
  {
   "cell_type": "code",
   "execution_count": 103,
   "id": "076b7c9b",
   "metadata": {},
   "outputs": [],
   "source": [
    "def test_params(**params):\n",
    "    model3 = RandomForestClassifier(n_jobs=-1, random_state=42, **params).fit(X_train, train_targets)\n",
    "    train_error = 1 - model3.score(X_train, train_targets)\n",
    "    val_error = 1 - model3.score(X_val, val_targets)\n",
    "    test_error = 1 - model3.score(X_test, test_targets)\n",
    "    return {'train_error': train_error, 'val_error': val_error, 'test_error': test_error}"
   ]
  },
  {
   "cell_type": "code",
   "execution_count": 104,
   "id": "4609a8de",
   "metadata": {},
   "outputs": [
    {
     "data": {
      "text/plain": [
       "{'train_error': 5.051117307153241e-05,\n",
       " 'val_error': 0.14555162207649008,\n",
       " 'test_error': 0.1549241549241549}"
      ]
     },
     "execution_count": 104,
     "metadata": {},
     "output_type": "execute_result"
    }
   ],
   "source": [
    "test_params(criterion='gini', bootstrap=True, n_estimators = 73, max_features=13)"
   ]
  },
  {
   "cell_type": "markdown",
   "id": "5265acd7",
   "metadata": {},
   "source": [
    "**accuracy of the model**"
   ]
  },
  {
   "cell_type": "markdown",
   "id": "cd39f284",
   "metadata": {},
   "source": [
    "Lets put together all the hyperparameters and compute the accuracy of the model"
   ]
  },
  {
   "cell_type": "code",
   "execution_count": 105,
   "id": "e07ed558",
   "metadata": {},
   "outputs": [],
   "source": [
    "model3 = RandomForestClassifier(n_jobs=-1, random_state=42, criterion='gini', bootstrap=True, n_estimators = 73, max_features=13)"
   ]
  },
  {
   "cell_type": "code",
   "execution_count": 106,
   "id": "318c5ea7",
   "metadata": {},
   "outputs": [
    {
     "data": {
      "text/plain": [
       "RandomForestClassifier(max_features=13, n_estimators=73, n_jobs=-1,\n",
       "                       random_state=42)"
      ]
     },
     "execution_count": 106,
     "metadata": {},
     "output_type": "execute_result"
    }
   ],
   "source": [
    "model3.fit(X_train, train_targets)"
   ]
  },
  {
   "cell_type": "code",
   "execution_count": 107,
   "id": "0b5a99fe",
   "metadata": {},
   "outputs": [],
   "source": [
    "train_pred = model3.predict(X_train)\n",
    "val_pred = model3.predict(X_val)\n",
    "test_pred = model3.predict(X_test)"
   ]
  },
  {
   "cell_type": "code",
   "execution_count": 108,
   "id": "1e89e2a8",
   "metadata": {},
   "outputs": [
    {
     "name": "stdout",
     "output_type": "stream",
     "text": [
      "train accuracy: 100.0%\n"
     ]
    }
   ],
   "source": [
    "train_acc2 = round(model3.score(X_train, train_targets), 2)\n",
    "print(\"train accuracy: {:2}%\".format(train_acc2 *100))"
   ]
  },
  {
   "cell_type": "code",
   "execution_count": 109,
   "id": "cbddb944",
   "metadata": {},
   "outputs": [
    {
     "name": "stdout",
     "output_type": "stream",
     "text": [
      "validation accuracy: 85.0%\n"
     ]
    }
   ],
   "source": [
    "val_acc2 = round(model3.score(X_val, val_targets), 2)\n",
    "print(\"validation accuracy: {:2}%\".format(val_acc2 *100))"
   ]
  },
  {
   "cell_type": "code",
   "execution_count": 110,
   "id": "ebc8e889",
   "metadata": {},
   "outputs": [
    {
     "name": "stdout",
     "output_type": "stream",
     "text": [
      "test accuracy: 85.0%\n"
     ]
    }
   ],
   "source": [
    "test_acc2 = round(model3.score(X_test, test_targets), 2)\n",
    "print(\"test accuracy: {:2}%\".format(test_acc2 *100))"
   ]
  },
  {
   "cell_type": "markdown",
   "id": "2f4e025a",
   "metadata": {},
   "source": [
    "The model has a **training accuracy of 100%**, a **validation accuracy of 85%**, and a **test accuracy of 85%**"
   ]
  },
  {
   "cell_type": "markdown",
   "id": "81d016d2",
   "metadata": {},
   "source": [
    "**confusion matrix of the model**"
   ]
  },
  {
   "cell_type": "markdown",
   "id": "1151ec33",
   "metadata": {},
   "source": [
    "It shows us the True Negative, False Positive, False Negative, True Positive of the model"
   ]
  },
  {
   "cell_type": "code",
   "execution_count": 111,
   "id": "794a557a",
   "metadata": {},
   "outputs": [
    {
     "data": {
      "text/plain": [
       "array([[0.95406431, 0.04593569],\n",
       "       [0.52203162, 0.47796838]])"
      ]
     },
     "execution_count": 111,
     "metadata": {},
     "output_type": "execute_result"
    }
   ],
   "source": [
    "test_confusion = cf(test_targets, test_pred, normalize='true')\n",
    "test_confusion"
   ]
  },
  {
   "cell_type": "markdown",
   "id": "19560f84",
   "metadata": {},
   "source": [
    "The confusion matrix above tells us the performance of the model as follows:\n",
    "\n",
    "1. 95% of the predicted NO was actually NO.\n",
    "2. 5% of the predicted YES was actaully NO.\n",
    "3. 52% of the predicted YES was actually YES.\n",
    "4. 48% of the predicted NO was actually YES."
   ]
  },
  {
   "cell_type": "markdown",
   "id": "9bea2a78",
   "metadata": {},
   "source": [
    "*visualization of the confusion matrix above*"
   ]
  },
  {
   "cell_type": "code",
   "execution_count": 112,
   "id": "e631c71e",
   "metadata": {},
   "outputs": [
    {
     "data": {
      "image/png": "[encoded data removed]",
      "text/plain": [
       "<Figure size 720x432 with 2 Axes>"
      ]
     },
     "metadata": {
      "needs_background": "light"
     },
     "output_type": "display_data"
    }
   ],
   "source": [
    "sns.heatmap(test_confusion, center=0.3, annot=True, linewidths=.9, linecolor='g', xticklabels=['Predicted NO', 'Predicted YES'], yticklabels=['Actual NO', 'Actual YES']);\n",
    "plt.title('confusion matrix');"
   ]
  },
  {
   "cell_type": "markdown",
   "id": "ad23838a",
   "metadata": {},
   "source": [
    "**feature importance**"
   ]
  },
  {
   "cell_type": "markdown",
   "id": "8685ab75",
   "metadata": {},
   "source": [
    "Lets see the importance of each feature to the model"
   ]
  },
  {
   "cell_type": "code",
   "execution_count": 113,
   "id": "bf450be0",
   "metadata": {},
   "outputs": [],
   "source": [
    "importance_df = pd.DataFrame({\n",
    "    'feature': X_train.columns,\n",
    "    'importance': model3.feature_importances_\n",
    "}).sort_values('importance', ascending=False).head(40)"
   ]
  },
  {
   "cell_type": "code",
   "execution_count": 114,
   "id": "f69e6ea3",
   "metadata": {},
   "outputs": [
    {
     "data": {
      "image/png": "[encoded data removed]",
      "text/plain": [
       "<Figure size 1008x360 with 1 Axes>"
      ]
     },
     "metadata": {
      "needs_background": "light"
     },
     "output_type": "display_data"
    }
   ],
   "source": [
    "plt.figure(figsize=(14, 5))\n",
    "sns.barplot(data=importance_df, x='feature', y='importance');\n",
    "plt.xticks(rotation=80);\n",
    "plt.title('feature importance');"
   ]
  },
  {
   "cell_type": "markdown",
   "id": "8b111a95",
   "metadata": {},
   "source": [
    "**Model Selection**"
   ]
  },
  {
   "cell_type": "markdown",
   "id": "4f39626e",
   "metadata": {},
   "source": [
    "We would be choosing the best model to use for our predictions.\n",
    "\n",
    "Lets check them out:\n",
    "\n",
    "Logistic Regression Model: **training accuracy of 85%**, a **validation accuracy of 85.2%**, and a **test accuracy of 84%**\n",
    "\n",
    "Decision Tree Model: **training accuracy of 85%**, a **validation accuracy of 84%**, and a **test accuracy of 84%**\n",
    "\n",
    "Random Forest Model: **training accuracy of 100%**, a **validation accuracy of 85%**, and a **test accuracy of 85%**"
   ]
  },
  {
   "cell_type": "markdown",
   "id": "782ca0a3",
   "metadata": {},
   "source": [
    "**Random Forest** *is the best model to use for this classification problem*"
   ]
  },
  {
   "cell_type": "markdown",
   "id": "7d748a98",
   "metadata": {},
   "source": [
    "**sample predictions**"
   ]
  },
  {
   "cell_type": "code",
   "execution_count": 115,
   "id": "cab9e1bc",
   "metadata": {},
   "outputs": [
    {
     "data": {
      "text/plain": [
       "array(['No', 'No', 'No', 'No', 'No', 'No', 'No', 'No', 'Yes', 'No', 'Yes',\n",
       "       'Yes', 'Yes', 'No', 'No', 'Yes', 'Yes', 'No', 'No', 'No', 'No',\n",
       "       'No', 'No', 'No', 'No', 'No', 'No', 'Yes', 'No', 'No', 'No', 'No',\n",
       "       'No', 'No', 'No', 'No', 'No', 'No', 'No', 'No', 'No', 'No', 'No',\n",
       "       'No', 'No', 'No', 'No', 'No', 'No', 'No'], dtype=object)"
      ]
     },
     "execution_count": 115,
     "metadata": {},
     "output_type": "execute_result"
    }
   ],
   "source": [
    "train_pred[:50]"
   ]
  },
  {
   "cell_type": "code",
   "execution_count": 116,
   "id": "c47bd7e3",
   "metadata": {},
   "outputs": [
    {
     "data": {
      "text/plain": [
       "array(['No', 'No', 'No', 'No', 'No', 'No', 'No', 'No', 'No', 'Yes', 'No',\n",
       "       'No', 'Yes', 'Yes', 'No', 'No', 'No', 'No', 'No', 'No', 'No', 'No',\n",
       "       'No', 'No', 'No', 'No', 'No', 'No', 'No', 'No', 'No', 'No', 'No',\n",
       "       'No', 'No', 'No', 'No', 'No', 'No', 'No', 'No', 'No', 'No', 'No',\n",
       "       'Yes', 'No', 'No', 'No', 'No', 'No'], dtype=object)"
      ]
     },
     "execution_count": 116,
     "metadata": {},
     "output_type": "execute_result"
    }
   ],
   "source": [
    "val_pred[:50]"
   ]
  },
  {
   "cell_type": "code",
   "execution_count": 117,
   "id": "a0a81077",
   "metadata": {},
   "outputs": [
    {
     "data": {
      "text/plain": [
       "array(['No', 'No', 'No', 'No', 'No', 'No', 'No', 'No', 'No', 'No', 'No',\n",
       "       'No', 'No', 'No', 'No', 'No', 'No', 'No', 'No', 'No', 'No', 'Yes',\n",
       "       'No', 'No', 'No', 'No', 'Yes', 'No', 'Yes', 'No', 'No', 'No', 'No',\n",
       "       'Yes', 'No', 'No', 'No', 'No', 'No', 'No', 'No', 'No', 'No', 'No',\n",
       "       'No', 'No', 'No', 'No', 'No', 'No'], dtype=object)"
      ]
     },
     "execution_count": 117,
     "metadata": {},
     "output_type": "execute_result"
    }
   ],
   "source": [
    "test_pred[:50]"
   ]
  },
  {
   "cell_type": "markdown",
   "id": "fb50e2b7",
   "metadata": {},
   "source": [
    "**saving the model weights**"
   ]
  },
  {
   "cell_type": "code",
   "execution_count": 118,
   "id": "fa2a51cd",
   "metadata": {},
   "outputs": [],
   "source": [
    "import joblib"
   ]
  },
  {
   "cell_type": "code",
   "execution_count": 119,
   "id": "b194f86d",
   "metadata": {},
   "outputs": [],
   "source": [
    "austria_rain = {\n",
    "    'model': model3,\n",
    "    'imputer': imputer,\n",
    "    'scaler': scaler,\n",
    "    'encoder': encoder,\n",
    "    'input_cols': input_cols,\n",
    "    'target_col': target_cols,\n",
    "    'numeric_cols': numeric_cols,\n",
    "    'categorical_cols': categorical_cols,\n",
    "    'encoded_cols': encoded_cols\n",
    "}"
   ]
  },
  {
   "cell_type": "code",
   "execution_count": 120,
   "id": "93656ca2",
   "metadata": {
    "scrolled": false
   },
   "outputs": [
    {
     "data": {
      "text/plain": [
       "['austria_rain.joblib']"
      ]
     },
     "execution_count": 120,
     "metadata": {},
     "output_type": "execute_result"
    }
   ],
   "source": [
    "joblib.dump(austria_rain, 'austria_rain.joblib')"
   ]
  },
  {
   "cell_type": "markdown",
   "id": "64f5e4b0",
   "metadata": {},
   "source": [
    "# Summary and Conclusions"
   ]
  },
  {
   "cell_type": "markdown",
   "id": "ece62c03",
   "metadata": {},
   "source": [
    "We performed the following in this project:\n",
    "\n",
    "1. Downloading the data.\n",
    "2. Data Preparation:\n",
    "    \n",
    "    ** Spliting the data into train, validation and test set.\n",
    "\n",
    "    ** Scaling numeric columns.\n",
    "    \n",
    "    ** Imputing missing values in both Numeric and categorical columns.\n",
    "    \n",
    "    ** Encoding Categorical columns.\n",
    "    \n",
    "    ** Feature Engineering.\n",
    "\n",
    "\n",
    "3. Exploratory Data Analysis.\n",
    "4. Training a Logistic, Decision Tree and Random Forest models.\n",
    "5. Computing the accuracies of the models.\n",
    "5. Model Selection.\n",
    "6. Saving the Model."
   ]
  },
  {
   "cell_type": "markdown",
   "id": "8a62379a",
   "metadata": {},
   "source": [
    "We have reached the end of this project which i have trained a model to predict whether or not rain is gonna fall tomorrow in australia."
   ]
  },
  {
   "cell_type": "markdown",
   "id": "e62efd9c",
   "metadata": {},
   "source": [
    "**THANKS** for your Time."
   ]
  },
  {
   "cell_type": "markdown",
   "id": "5cb513f4",
   "metadata": {},
   "source": [
    "# References"
   ]
  },
  {
   "cell_type": "markdown",
   "id": "7cb4410a",
   "metadata": {},
   "source": [
    "In this work, multiple libraries and projects were consulted and used as reference.\n",
    "The following list comprises the most relevant ones that should provide further insights on the subject."
   ]
  },
  {
   "cell_type": "markdown",
   "id": "d701cf4d",
   "metadata": {},
   "source": [
    "1. https://seaborn.pydata.org/generated/seaborn.heatmap.html\n",
    "2. https://matplotlib.org/stable/api/_as_gen/matplotlib.axes.Axes.text.html#matplotlib.axes.Axes.text\n",
    "3. https://www.kaggle.com/datasets/jsphyg/weather-dataset-rattle-package"
   ]
  },
  {
   "cell_type": "code",
   "execution_count": 121,
   "id": "80453c73",
   "metadata": {},
   "outputs": [
    {
     "data": {
      "application/javascript": [
       "window.require && require([\"base/js/namespace\"],function(Jupyter){Jupyter.notebook.save_checkpoint()})"
      ],
      "text/plain": [
       "<IPython.core.display.Javascript object>"
      ]
     },
     "metadata": {},
     "output_type": "display_data"
    },
    {
     "name": "stdout",
     "output_type": "stream",
     "text": [
      "[jovian] Updating notebook \"wells-2104/predict-next-day-rain-in-australia\" on https://jovian.ai/\u001b[0m\n",
      "[jovian] Committed successfully! https://jovian.ai/wells-2104/predict-next-day-rain-in-australia\u001b[0m\n"
     ]
    },
    {
     "data": {
      "text/plain": [
       "'https://jovian.ai/wells-2104/predict-next-day-rain-in-australia'"
      ]
     },
     "execution_count": 121,
     "metadata": {},
     "output_type": "execute_result"
    }
   ],
   "source": [
    "jovian.commit()"
   ]
  }
 ],
 "metadata": {
  "kernelspec": {
   "display_name": "Python 3 (ipykernel)",
   "language": "python",
   "name": "python3"
  },
  "language_info": {
   "codemirror_mode": {
    "name": "ipython",
    "version": 3
   },
   "file_extension": ".py",
   "mimetype": "text/x-python",
   "name": "python",
   "nbconvert_exporter": "python",
   "pygments_lexer": "ipython3",
   "version": "3.9.12"
  }
 },
 "nbformat": 4,
 "nbformat_minor": 5
}
